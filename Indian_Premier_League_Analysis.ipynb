{
  "nbformat": 4,
  "nbformat_minor": 0,
  "metadata": {
    "colab": {
      "provenance": [],
      "mount_file_id": "15PxEsfmaPUdEl7BTf_ktmu8UqTvIe3XH",
      "authorship_tag": "ABX9TyNJJU29QGpV5NDOZP8e9C1Y",
      "include_colab_link": true
    },
    "kernelspec": {
      "name": "python3",
      "display_name": "Python 3"
    },
    "language_info": {
      "name": "python"
    }
  },
  "cells": [
    {
      "cell_type": "markdown",
      "metadata": {
        "id": "view-in-github",
        "colab_type": "text"
      },
      "source": [
        "<a href=\"https://colab.research.google.com/github/devt-vari/Indian-Premier-League-Sports-Analysis/blob/main/Indian_Premier_League_Analysis.ipynb\" target=\"_parent\"><img src=\"https://colab.research.google.com/assets/colab-badge.svg\" alt=\"Open In Colab\"/></a>"
      ]
    },
    {
      "cell_type": "markdown",
      "source": [
        "# **The Sparks Foundation**\n",
        "![download.png](data:image/png;base64,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)\n",
        "\n",
        "\n",
        "\n",
        "**Name** : Brahm Dev Tiwari\n",
        "\n",
        "**Batch** : GRIP - June'2023\n",
        "\n",
        "**Task 5**  :  Indian Premier League - Exploratory Data Analysis."
      ],
      "metadata": {
        "id": "kd9qFowJUzFj"
      }
    },
    {
      "cell_type": "markdown",
      "source": [
        "# **Indian Premier League**\n",
        "\n",
        "\n",
        "\n",
        "![IPL.png](data:image/png;base64,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)\n",
        "\n",
        "\n",
        "\n",
        "\n",
        "This is an IPL Exploratory Data Analysis project that contains data in tow files namely, matches and deliveries.\n",
        "\n",
        "The shape of data is quite large with entires in matches file as 756 rows and 17 columns while the shape of delivery file is 179078 rows and 21 columns.\n",
        "\n",
        "## **Objective :**\n",
        "* As a Sports Analyst, to find out the most successful teams, players and the factors contributing to win or to loose the game.\n",
        "* Exploratory Data Analysis.\n",
        "* Handling missing values.\n",
        "* Summary statistics.\n",
        "* Graphical visualisations.\n",
        "* Basic Analysis like Teams with maximum matches, wins,etc\n",
        "* Batsman Analysis\n",
        "* Bowler Analysis\n",
        "* 200+ scores analysis\n",
        "* Key insights."
      ],
      "metadata": {
        "id": "ELeSMPREcaXi"
      }
    },
    {
      "cell_type": "markdown",
      "source": [
        "# **Importing Librarires**"
      ],
      "metadata": {
        "id": "Ds4biN5X6-Te"
      }
    },
    {
      "cell_type": "code",
      "source": [
        "import pandas as pd\n",
        "import numpy as np\n",
        "import matplotlib.pyplot as plt\n",
        "import seaborn as sns\n",
        "mlt.style.use('fivethirtyeight')\n",
        "import plotly.offline as py\n",
        "py.init_notebook_mode(connected=True)\n",
        "import plotly.graph_objs as go\n",
        "import plotly.tools as tls\n",
        "from subprocess import check_output"
      ],
      "metadata": {
        "colab": {
          "base_uri": "https://localhost:8080/",
          "height": 17
        },
        "id": "AgN_t4OxE__h",
        "outputId": "6dd5b7a1-3380-4f31-9c91-f23f9734cbea"
      },
      "execution_count": null,
      "outputs": [
        {
          "output_type": "display_data",
          "data": {
            "text/html": [
              "        <script type=\"text/javascript\">\n",
              "        window.PlotlyConfig = {MathJaxConfig: 'local'};\n",
              "        if (window.MathJax && window.MathJax.Hub && window.MathJax.Hub.Config) {window.MathJax.Hub.Config({SVG: {font: \"STIX-Web\"}});}\n",
              "        if (typeof require !== 'undefined') {\n",
              "        require.undef(\"plotly\");\n",
              "        requirejs.config({\n",
              "            paths: {\n",
              "                'plotly': ['https://cdn.plot.ly/plotly-2.18.2.min']\n",
              "            }\n",
              "        });\n",
              "        require(['plotly'], function(Plotly) {\n",
              "            window._Plotly = Plotly;\n",
              "        });\n",
              "        }\n",
              "        </script>\n",
              "        "
            ]
          },
          "metadata": {}
        }
      ]
    },
    {
      "cell_type": "code",
      "source": [
        "matches = pd.read_csv('/content/matches.csv', encoding='latin-1')\n",
        "delivery = pd.read_csv('/content/deliveries.csv', encoding='latin-1')"
      ],
      "metadata": {
        "id": "SE4DeKLJFAlm"
      },
      "execution_count": null,
      "outputs": []
    },
    {
      "cell_type": "code",
      "source": [
        "matches.head()"
      ],
      "metadata": {
        "colab": {
          "base_uri": "https://localhost:8080/",
          "height": 478
        },
        "id": "yPjjZZWwHzL-",
        "outputId": "9f14f0bf-b664-49cc-aa85-686f8f8dbe12"
      },
      "execution_count": null,
      "outputs": [
        {
          "output_type": "execute_result",
          "data": {
            "text/plain": [
              "   id  season       city        date team1 team2 toss_winner toss_decision  \\\n",
              "0   1    2017  Hyderabad  2017-04-05   SRH   RCB         RCB         field   \n",
              "1   2    2017       Pune  2017-04-06    MI   RPS         RPS         field   \n",
              "2   3    2017     Rajkot  2017-04-07    GL   KKR         KKR         field   \n",
              "3   4    2017     Indore  2017-04-08   RPS  KXIP        KXIP         field   \n",
              "4   5    2017  Bangalore  2017-04-08   RCB    DD         RCB           bat   \n",
              "\n",
              "   result  dl_applied winner  win_by_runs  win_by_wickets player_of_match  \\\n",
              "0  normal           0    SRH           35               0    Yuvraj Singh   \n",
              "1  normal           0    RPS            0               7       SPD Smith   \n",
              "2  normal           0    KKR            0              10         CA Lynn   \n",
              "3  normal           0   KXIP            0               6      GJ Maxwell   \n",
              "4  normal           0    RCB           15               0       KM Jadhav   \n",
              "\n",
              "                                       venue         umpire1        umpire2  \n",
              "0  Rajiv Gandhi International Stadium, Uppal     AY Dandekar       NJ Llong  \n",
              "1    Maharashtra Cricket Association Stadium  A Nand Kishore         S Ravi  \n",
              "2     Saurashtra Cricket Association Stadium     Nitin Menon      CK Nandan  \n",
              "3                     Holkar Cricket Stadium    AK Chaudhary  C Shamshuddin  \n",
              "4                      M Chinnaswamy Stadium               0              0  "
            ],
            "text/html": [
              "\n",
              "  <div id=\"df-a638feda-1d61-4dc8-9c76-2b988f3524ff\">\n",
              "    <div class=\"colab-df-container\">\n",
              "      <div>\n",
              "<style scoped>\n",
              "    .dataframe tbody tr th:only-of-type {\n",
              "        vertical-align: middle;\n",
              "    }\n",
              "\n",
              "    .dataframe tbody tr th {\n",
              "        vertical-align: top;\n",
              "    }\n",
              "\n",
              "    .dataframe thead th {\n",
              "        text-align: right;\n",
              "    }\n",
              "</style>\n",
              "<table border=\"1\" class=\"dataframe\">\n",
              "  <thead>\n",
              "    <tr style=\"text-align: right;\">\n",
              "      <th></th>\n",
              "      <th>id</th>\n",
              "      <th>season</th>\n",
              "      <th>city</th>\n",
              "      <th>date</th>\n",
              "      <th>team1</th>\n",
              "      <th>team2</th>\n",
              "      <th>toss_winner</th>\n",
              "      <th>toss_decision</th>\n",
              "      <th>result</th>\n",
              "      <th>dl_applied</th>\n",
              "      <th>winner</th>\n",
              "      <th>win_by_runs</th>\n",
              "      <th>win_by_wickets</th>\n",
              "      <th>player_of_match</th>\n",
              "      <th>venue</th>\n",
              "      <th>umpire1</th>\n",
              "      <th>umpire2</th>\n",
              "    </tr>\n",
              "  </thead>\n",
              "  <tbody>\n",
              "    <tr>\n",
              "      <th>0</th>\n",
              "      <td>1</td>\n",
              "      <td>2017</td>\n",
              "      <td>Hyderabad</td>\n",
              "      <td>2017-04-05</td>\n",
              "      <td>SRH</td>\n",
              "      <td>RCB</td>\n",
              "      <td>RCB</td>\n",
              "      <td>field</td>\n",
              "      <td>normal</td>\n",
              "      <td>0</td>\n",
              "      <td>SRH</td>\n",
              "      <td>35</td>\n",
              "      <td>0</td>\n",
              "      <td>Yuvraj Singh</td>\n",
              "      <td>Rajiv Gandhi International Stadium, Uppal</td>\n",
              "      <td>AY Dandekar</td>\n",
              "      <td>NJ Llong</td>\n",
              "    </tr>\n",
              "    <tr>\n",
              "      <th>1</th>\n",
              "      <td>2</td>\n",
              "      <td>2017</td>\n",
              "      <td>Pune</td>\n",
              "      <td>2017-04-06</td>\n",
              "      <td>MI</td>\n",
              "      <td>RPS</td>\n",
              "      <td>RPS</td>\n",
              "      <td>field</td>\n",
              "      <td>normal</td>\n",
              "      <td>0</td>\n",
              "      <td>RPS</td>\n",
              "      <td>0</td>\n",
              "      <td>7</td>\n",
              "      <td>SPD Smith</td>\n",
              "      <td>Maharashtra Cricket Association Stadium</td>\n",
              "      <td>A Nand Kishore</td>\n",
              "      <td>S Ravi</td>\n",
              "    </tr>\n",
              "    <tr>\n",
              "      <th>2</th>\n",
              "      <td>3</td>\n",
              "      <td>2017</td>\n",
              "      <td>Rajkot</td>\n",
              "      <td>2017-04-07</td>\n",
              "      <td>GL</td>\n",
              "      <td>KKR</td>\n",
              "      <td>KKR</td>\n",
              "      <td>field</td>\n",
              "      <td>normal</td>\n",
              "      <td>0</td>\n",
              "      <td>KKR</td>\n",
              "      <td>0</td>\n",
              "      <td>10</td>\n",
              "      <td>CA Lynn</td>\n",
              "      <td>Saurashtra Cricket Association Stadium</td>\n",
              "      <td>Nitin Menon</td>\n",
              "      <td>CK Nandan</td>\n",
              "    </tr>\n",
              "    <tr>\n",
              "      <th>3</th>\n",
              "      <td>4</td>\n",
              "      <td>2017</td>\n",
              "      <td>Indore</td>\n",
              "      <td>2017-04-08</td>\n",
              "      <td>RPS</td>\n",
              "      <td>KXIP</td>\n",
              "      <td>KXIP</td>\n",
              "      <td>field</td>\n",
              "      <td>normal</td>\n",
              "      <td>0</td>\n",
              "      <td>KXIP</td>\n",
              "      <td>0</td>\n",
              "      <td>6</td>\n",
              "      <td>GJ Maxwell</td>\n",
              "      <td>Holkar Cricket Stadium</td>\n",
              "      <td>AK Chaudhary</td>\n",
              "      <td>C Shamshuddin</td>\n",
              "    </tr>\n",
              "    <tr>\n",
              "      <th>4</th>\n",
              "      <td>5</td>\n",
              "      <td>2017</td>\n",
              "      <td>Bangalore</td>\n",
              "      <td>2017-04-08</td>\n",
              "      <td>RCB</td>\n",
              "      <td>DD</td>\n",
              "      <td>RCB</td>\n",
              "      <td>bat</td>\n",
              "      <td>normal</td>\n",
              "      <td>0</td>\n",
              "      <td>RCB</td>\n",
              "      <td>15</td>\n",
              "      <td>0</td>\n",
              "      <td>KM Jadhav</td>\n",
              "      <td>M Chinnaswamy Stadium</td>\n",
              "      <td>0</td>\n",
              "      <td>0</td>\n",
              "    </tr>\n",
              "  </tbody>\n",
              "</table>\n",
              "</div>\n",
              "      <button class=\"colab-df-convert\" onclick=\"convertToInteractive('df-a638feda-1d61-4dc8-9c76-2b988f3524ff')\"\n",
              "              title=\"Convert this dataframe to an interactive table.\"\n",
              "              style=\"display:none;\">\n",
              "        \n",
              "  <svg xmlns=\"http://www.w3.org/2000/svg\" height=\"24px\"viewBox=\"0 0 24 24\"\n",
              "       width=\"24px\">\n",
              "    <path d=\"M0 0h24v24H0V0z\" fill=\"none\"/>\n",
              "    <path d=\"M18.56 5.44l.94 2.06.94-2.06 2.06-.94-2.06-.94-.94-2.06-.94 2.06-2.06.94zm-11 1L8.5 8.5l.94-2.06 2.06-.94-2.06-.94L8.5 2.5l-.94 2.06-2.06.94zm10 10l.94 2.06.94-2.06 2.06-.94-2.06-.94-.94-2.06-.94 2.06-2.06.94z\"/><path d=\"M17.41 7.96l-1.37-1.37c-.4-.4-.92-.59-1.43-.59-.52 0-1.04.2-1.43.59L10.3 9.45l-7.72 7.72c-.78.78-.78 2.05 0 2.83L4 21.41c.39.39.9.59 1.41.59.51 0 1.02-.2 1.41-.59l7.78-7.78 2.81-2.81c.8-.78.8-2.07 0-2.86zM5.41 20L4 18.59l7.72-7.72 1.47 1.35L5.41 20z\"/>\n",
              "  </svg>\n",
              "      </button>\n",
              "      \n",
              "  <style>\n",
              "    .colab-df-container {\n",
              "      display:flex;\n",
              "      flex-wrap:wrap;\n",
              "      gap: 12px;\n",
              "    }\n",
              "\n",
              "    .colab-df-convert {\n",
              "      background-color: #E8F0FE;\n",
              "      border: none;\n",
              "      border-radius: 50%;\n",
              "      cursor: pointer;\n",
              "      display: none;\n",
              "      fill: #1967D2;\n",
              "      height: 32px;\n",
              "      padding: 0 0 0 0;\n",
              "      width: 32px;\n",
              "    }\n",
              "\n",
              "    .colab-df-convert:hover {\n",
              "      background-color: #E2EBFA;\n",
              "      box-shadow: 0px 1px 2px rgba(60, 64, 67, 0.3), 0px 1px 3px 1px rgba(60, 64, 67, 0.15);\n",
              "      fill: #174EA6;\n",
              "    }\n",
              "\n",
              "    [theme=dark] .colab-df-convert {\n",
              "      background-color: #3B4455;\n",
              "      fill: #D2E3FC;\n",
              "    }\n",
              "\n",
              "    [theme=dark] .colab-df-convert:hover {\n",
              "      background-color: #434B5C;\n",
              "      box-shadow: 0px 1px 3px 1px rgba(0, 0, 0, 0.15);\n",
              "      filter: drop-shadow(0px 1px 2px rgba(0, 0, 0, 0.3));\n",
              "      fill: #FFFFFF;\n",
              "    }\n",
              "  </style>\n",
              "\n",
              "      <script>\n",
              "        const buttonEl =\n",
              "          document.querySelector('#df-a638feda-1d61-4dc8-9c76-2b988f3524ff button.colab-df-convert');\n",
              "        buttonEl.style.display =\n",
              "          google.colab.kernel.accessAllowed ? 'block' : 'none';\n",
              "\n",
              "        async function convertToInteractive(key) {\n",
              "          const element = document.querySelector('#df-a638feda-1d61-4dc8-9c76-2b988f3524ff');\n",
              "          const dataTable =\n",
              "            await google.colab.kernel.invokeFunction('convertToInteractive',\n",
              "                                                     [key], {});\n",
              "          if (!dataTable) return;\n",
              "\n",
              "          const docLinkHtml = 'Like what you see? Visit the ' +\n",
              "            '<a target=\"_blank\" href=https://colab.research.google.com/notebooks/data_table.ipynb>data table notebook</a>'\n",
              "            + ' to learn more about interactive tables.';\n",
              "          element.innerHTML = '';\n",
              "          dataTable['output_type'] = 'display_data';\n",
              "          await google.colab.output.renderOutput(dataTable, element);\n",
              "          const docLink = document.createElement('div');\n",
              "          docLink.innerHTML = docLinkHtml;\n",
              "          element.appendChild(docLink);\n",
              "        }\n",
              "      </script>\n",
              "    </div>\n",
              "  </div>\n",
              "  "
            ]
          },
          "metadata": {},
          "execution_count": 110
        }
      ]
    },
    {
      "cell_type": "code",
      "source": [
        "matches.shape"
      ],
      "metadata": {
        "colab": {
          "base_uri": "https://localhost:8080/"
        },
        "id": "ASGRduSnLO6N",
        "outputId": "c7cb6ecd-43c9-4a0a-ff8e-8f036cebae4e"
      },
      "execution_count": null,
      "outputs": [
        {
          "output_type": "execute_result",
          "data": {
            "text/plain": [
              "(756, 18)"
            ]
          },
          "metadata": {},
          "execution_count": 21
        }
      ]
    },
    {
      "cell_type": "code",
      "source": [
        "matches.describe()"
      ],
      "metadata": {
        "colab": {
          "base_uri": "https://localhost:8080/",
          "height": 300
        },
        "id": "xYTZJgOXLRl0",
        "outputId": "573b0595-0027-4110-c39c-993cd177986a"
      },
      "execution_count": null,
      "outputs": [
        {
          "output_type": "execute_result",
          "data": {
            "text/plain": [
              "                 id       season  dl_applied  win_by_runs  win_by_wickets\n",
              "count    756.000000   756.000000  756.000000   756.000000      756.000000\n",
              "mean    1792.178571  2013.444444    0.025132    13.283069        3.350529\n",
              "std     3464.478148     3.366895    0.156630    23.471144        3.387963\n",
              "min        1.000000  2008.000000    0.000000     0.000000        0.000000\n",
              "25%      189.750000  2011.000000    0.000000     0.000000        0.000000\n",
              "50%      378.500000  2013.000000    0.000000     0.000000        4.000000\n",
              "75%      567.250000  2016.000000    0.000000    19.000000        6.000000\n",
              "max    11415.000000  2019.000000    1.000000   146.000000       10.000000"
            ],
            "text/html": [
              "\n",
              "  <div id=\"df-2b09c9ef-a29c-4b7a-b54e-aa75f3f93734\">\n",
              "    <div class=\"colab-df-container\">\n",
              "      <div>\n",
              "<style scoped>\n",
              "    .dataframe tbody tr th:only-of-type {\n",
              "        vertical-align: middle;\n",
              "    }\n",
              "\n",
              "    .dataframe tbody tr th {\n",
              "        vertical-align: top;\n",
              "    }\n",
              "\n",
              "    .dataframe thead th {\n",
              "        text-align: right;\n",
              "    }\n",
              "</style>\n",
              "<table border=\"1\" class=\"dataframe\">\n",
              "  <thead>\n",
              "    <tr style=\"text-align: right;\">\n",
              "      <th></th>\n",
              "      <th>id</th>\n",
              "      <th>season</th>\n",
              "      <th>dl_applied</th>\n",
              "      <th>win_by_runs</th>\n",
              "      <th>win_by_wickets</th>\n",
              "    </tr>\n",
              "  </thead>\n",
              "  <tbody>\n",
              "    <tr>\n",
              "      <th>count</th>\n",
              "      <td>756.000000</td>\n",
              "      <td>756.000000</td>\n",
              "      <td>756.000000</td>\n",
              "      <td>756.000000</td>\n",
              "      <td>756.000000</td>\n",
              "    </tr>\n",
              "    <tr>\n",
              "      <th>mean</th>\n",
              "      <td>1792.178571</td>\n",
              "      <td>2013.444444</td>\n",
              "      <td>0.025132</td>\n",
              "      <td>13.283069</td>\n",
              "      <td>3.350529</td>\n",
              "    </tr>\n",
              "    <tr>\n",
              "      <th>std</th>\n",
              "      <td>3464.478148</td>\n",
              "      <td>3.366895</td>\n",
              "      <td>0.156630</td>\n",
              "      <td>23.471144</td>\n",
              "      <td>3.387963</td>\n",
              "    </tr>\n",
              "    <tr>\n",
              "      <th>min</th>\n",
              "      <td>1.000000</td>\n",
              "      <td>2008.000000</td>\n",
              "      <td>0.000000</td>\n",
              "      <td>0.000000</td>\n",
              "      <td>0.000000</td>\n",
              "    </tr>\n",
              "    <tr>\n",
              "      <th>25%</th>\n",
              "      <td>189.750000</td>\n",
              "      <td>2011.000000</td>\n",
              "      <td>0.000000</td>\n",
              "      <td>0.000000</td>\n",
              "      <td>0.000000</td>\n",
              "    </tr>\n",
              "    <tr>\n",
              "      <th>50%</th>\n",
              "      <td>378.500000</td>\n",
              "      <td>2013.000000</td>\n",
              "      <td>0.000000</td>\n",
              "      <td>0.000000</td>\n",
              "      <td>4.000000</td>\n",
              "    </tr>\n",
              "    <tr>\n",
              "      <th>75%</th>\n",
              "      <td>567.250000</td>\n",
              "      <td>2016.000000</td>\n",
              "      <td>0.000000</td>\n",
              "      <td>19.000000</td>\n",
              "      <td>6.000000</td>\n",
              "    </tr>\n",
              "    <tr>\n",
              "      <th>max</th>\n",
              "      <td>11415.000000</td>\n",
              "      <td>2019.000000</td>\n",
              "      <td>1.000000</td>\n",
              "      <td>146.000000</td>\n",
              "      <td>10.000000</td>\n",
              "    </tr>\n",
              "  </tbody>\n",
              "</table>\n",
              "</div>\n",
              "      <button class=\"colab-df-convert\" onclick=\"convertToInteractive('df-2b09c9ef-a29c-4b7a-b54e-aa75f3f93734')\"\n",
              "              title=\"Convert this dataframe to an interactive table.\"\n",
              "              style=\"display:none;\">\n",
              "        \n",
              "  <svg xmlns=\"http://www.w3.org/2000/svg\" height=\"24px\"viewBox=\"0 0 24 24\"\n",
              "       width=\"24px\">\n",
              "    <path d=\"M0 0h24v24H0V0z\" fill=\"none\"/>\n",
              "    <path d=\"M18.56 5.44l.94 2.06.94-2.06 2.06-.94-2.06-.94-.94-2.06-.94 2.06-2.06.94zm-11 1L8.5 8.5l.94-2.06 2.06-.94-2.06-.94L8.5 2.5l-.94 2.06-2.06.94zm10 10l.94 2.06.94-2.06 2.06-.94-2.06-.94-.94-2.06-.94 2.06-2.06.94z\"/><path d=\"M17.41 7.96l-1.37-1.37c-.4-.4-.92-.59-1.43-.59-.52 0-1.04.2-1.43.59L10.3 9.45l-7.72 7.72c-.78.78-.78 2.05 0 2.83L4 21.41c.39.39.9.59 1.41.59.51 0 1.02-.2 1.41-.59l7.78-7.78 2.81-2.81c.8-.78.8-2.07 0-2.86zM5.41 20L4 18.59l7.72-7.72 1.47 1.35L5.41 20z\"/>\n",
              "  </svg>\n",
              "      </button>\n",
              "      \n",
              "  <style>\n",
              "    .colab-df-container {\n",
              "      display:flex;\n",
              "      flex-wrap:wrap;\n",
              "      gap: 12px;\n",
              "    }\n",
              "\n",
              "    .colab-df-convert {\n",
              "      background-color: #E8F0FE;\n",
              "      border: none;\n",
              "      border-radius: 50%;\n",
              "      cursor: pointer;\n",
              "      display: none;\n",
              "      fill: #1967D2;\n",
              "      height: 32px;\n",
              "      padding: 0 0 0 0;\n",
              "      width: 32px;\n",
              "    }\n",
              "\n",
              "    .colab-df-convert:hover {\n",
              "      background-color: #E2EBFA;\n",
              "      box-shadow: 0px 1px 2px rgba(60, 64, 67, 0.3), 0px 1px 3px 1px rgba(60, 64, 67, 0.15);\n",
              "      fill: #174EA6;\n",
              "    }\n",
              "\n",
              "    [theme=dark] .colab-df-convert {\n",
              "      background-color: #3B4455;\n",
              "      fill: #D2E3FC;\n",
              "    }\n",
              "\n",
              "    [theme=dark] .colab-df-convert:hover {\n",
              "      background-color: #434B5C;\n",
              "      box-shadow: 0px 1px 3px 1px rgba(0, 0, 0, 0.15);\n",
              "      filter: drop-shadow(0px 1px 2px rgba(0, 0, 0, 0.3));\n",
              "      fill: #FFFFFF;\n",
              "    }\n",
              "  </style>\n",
              "\n",
              "      <script>\n",
              "        const buttonEl =\n",
              "          document.querySelector('#df-2b09c9ef-a29c-4b7a-b54e-aa75f3f93734 button.colab-df-convert');\n",
              "        buttonEl.style.display =\n",
              "          google.colab.kernel.accessAllowed ? 'block' : 'none';\n",
              "\n",
              "        async function convertToInteractive(key) {\n",
              "          const element = document.querySelector('#df-2b09c9ef-a29c-4b7a-b54e-aa75f3f93734');\n",
              "          const dataTable =\n",
              "            await google.colab.kernel.invokeFunction('convertToInteractive',\n",
              "                                                     [key], {});\n",
              "          if (!dataTable) return;\n",
              "\n",
              "          const docLinkHtml = 'Like what you see? Visit the ' +\n",
              "            '<a target=\"_blank\" href=https://colab.research.google.com/notebooks/data_table.ipynb>data table notebook</a>'\n",
              "            + ' to learn more about interactive tables.';\n",
              "          element.innerHTML = '';\n",
              "          dataTable['output_type'] = 'display_data';\n",
              "          await google.colab.output.renderOutput(dataTable, element);\n",
              "          const docLink = document.createElement('div');\n",
              "          docLink.innerHTML = docLinkHtml;\n",
              "          element.appendChild(docLink);\n",
              "        }\n",
              "      </script>\n",
              "    </div>\n",
              "  </div>\n",
              "  "
            ]
          },
          "metadata": {},
          "execution_count": 109
        }
      ]
    },
    {
      "cell_type": "code",
      "source": [
        "delivery.head()"
      ],
      "metadata": {
        "colab": {
          "base_uri": "https://localhost:8080/",
          "height": 386
        },
        "id": "NqVXqjHYH4iP",
        "outputId": "7d7f1a41-edb6-4e39-976e-3f4fb32068a5"
      },
      "execution_count": null,
      "outputs": [
        {
          "output_type": "execute_result",
          "data": {
            "text/plain": [
              "   match_id  inning batting_team bowling_team  over  ball    batsman  \\\n",
              "0         1       1          SRH          RCB     1     1  DA Warner   \n",
              "1         1       1          SRH          RCB     1     2  DA Warner   \n",
              "2         1       1          SRH          RCB     1     3  DA Warner   \n",
              "3         1       1          SRH          RCB     1     4  DA Warner   \n",
              "4         1       1          SRH          RCB     1     5  DA Warner   \n",
              "\n",
              "  non_striker    bowler  is_super_over  ...  bye_runs  legbye_runs  \\\n",
              "0    S Dhawan  TS Mills              0  ...         0            0   \n",
              "1    S Dhawan  TS Mills              0  ...         0            0   \n",
              "2    S Dhawan  TS Mills              0  ...         0            0   \n",
              "3    S Dhawan  TS Mills              0  ...         0            0   \n",
              "4    S Dhawan  TS Mills              0  ...         0            0   \n",
              "\n",
              "   noball_runs  penalty_runs  batsman_runs  extra_runs  total_runs  \\\n",
              "0            0             0             0           0           0   \n",
              "1            0             0             0           0           0   \n",
              "2            0             0             4           0           4   \n",
              "3            0             0             0           0           0   \n",
              "4            0             0             0           2           2   \n",
              "\n",
              "   player_dismissed dismissal_kind fielder  \n",
              "0                 0              0       0  \n",
              "1                 0              0       0  \n",
              "2                 0              0       0  \n",
              "3                 0              0       0  \n",
              "4                 0              0       0  \n",
              "\n",
              "[5 rows x 21 columns]"
            ],
            "text/html": [
              "\n",
              "  <div id=\"df-8dabff6a-e8af-4d76-abc2-a20fb1ba5c2e\">\n",
              "    <div class=\"colab-df-container\">\n",
              "      <div>\n",
              "<style scoped>\n",
              "    .dataframe tbody tr th:only-of-type {\n",
              "        vertical-align: middle;\n",
              "    }\n",
              "\n",
              "    .dataframe tbody tr th {\n",
              "        vertical-align: top;\n",
              "    }\n",
              "\n",
              "    .dataframe thead th {\n",
              "        text-align: right;\n",
              "    }\n",
              "</style>\n",
              "<table border=\"1\" class=\"dataframe\">\n",
              "  <thead>\n",
              "    <tr style=\"text-align: right;\">\n",
              "      <th></th>\n",
              "      <th>match_id</th>\n",
              "      <th>inning</th>\n",
              "      <th>batting_team</th>\n",
              "      <th>bowling_team</th>\n",
              "      <th>over</th>\n",
              "      <th>ball</th>\n",
              "      <th>batsman</th>\n",
              "      <th>non_striker</th>\n",
              "      <th>bowler</th>\n",
              "      <th>is_super_over</th>\n",
              "      <th>...</th>\n",
              "      <th>bye_runs</th>\n",
              "      <th>legbye_runs</th>\n",
              "      <th>noball_runs</th>\n",
              "      <th>penalty_runs</th>\n",
              "      <th>batsman_runs</th>\n",
              "      <th>extra_runs</th>\n",
              "      <th>total_runs</th>\n",
              "      <th>player_dismissed</th>\n",
              "      <th>dismissal_kind</th>\n",
              "      <th>fielder</th>\n",
              "    </tr>\n",
              "  </thead>\n",
              "  <tbody>\n",
              "    <tr>\n",
              "      <th>0</th>\n",
              "      <td>1</td>\n",
              "      <td>1</td>\n",
              "      <td>SRH</td>\n",
              "      <td>RCB</td>\n",
              "      <td>1</td>\n",
              "      <td>1</td>\n",
              "      <td>DA Warner</td>\n",
              "      <td>S Dhawan</td>\n",
              "      <td>TS Mills</td>\n",
              "      <td>0</td>\n",
              "      <td>...</td>\n",
              "      <td>0</td>\n",
              "      <td>0</td>\n",
              "      <td>0</td>\n",
              "      <td>0</td>\n",
              "      <td>0</td>\n",
              "      <td>0</td>\n",
              "      <td>0</td>\n",
              "      <td>0</td>\n",
              "      <td>0</td>\n",
              "      <td>0</td>\n",
              "    </tr>\n",
              "    <tr>\n",
              "      <th>1</th>\n",
              "      <td>1</td>\n",
              "      <td>1</td>\n",
              "      <td>SRH</td>\n",
              "      <td>RCB</td>\n",
              "      <td>1</td>\n",
              "      <td>2</td>\n",
              "      <td>DA Warner</td>\n",
              "      <td>S Dhawan</td>\n",
              "      <td>TS Mills</td>\n",
              "      <td>0</td>\n",
              "      <td>...</td>\n",
              "      <td>0</td>\n",
              "      <td>0</td>\n",
              "      <td>0</td>\n",
              "      <td>0</td>\n",
              "      <td>0</td>\n",
              "      <td>0</td>\n",
              "      <td>0</td>\n",
              "      <td>0</td>\n",
              "      <td>0</td>\n",
              "      <td>0</td>\n",
              "    </tr>\n",
              "    <tr>\n",
              "      <th>2</th>\n",
              "      <td>1</td>\n",
              "      <td>1</td>\n",
              "      <td>SRH</td>\n",
              "      <td>RCB</td>\n",
              "      <td>1</td>\n",
              "      <td>3</td>\n",
              "      <td>DA Warner</td>\n",
              "      <td>S Dhawan</td>\n",
              "      <td>TS Mills</td>\n",
              "      <td>0</td>\n",
              "      <td>...</td>\n",
              "      <td>0</td>\n",
              "      <td>0</td>\n",
              "      <td>0</td>\n",
              "      <td>0</td>\n",
              "      <td>4</td>\n",
              "      <td>0</td>\n",
              "      <td>4</td>\n",
              "      <td>0</td>\n",
              "      <td>0</td>\n",
              "      <td>0</td>\n",
              "    </tr>\n",
              "    <tr>\n",
              "      <th>3</th>\n",
              "      <td>1</td>\n",
              "      <td>1</td>\n",
              "      <td>SRH</td>\n",
              "      <td>RCB</td>\n",
              "      <td>1</td>\n",
              "      <td>4</td>\n",
              "      <td>DA Warner</td>\n",
              "      <td>S Dhawan</td>\n",
              "      <td>TS Mills</td>\n",
              "      <td>0</td>\n",
              "      <td>...</td>\n",
              "      <td>0</td>\n",
              "      <td>0</td>\n",
              "      <td>0</td>\n",
              "      <td>0</td>\n",
              "      <td>0</td>\n",
              "      <td>0</td>\n",
              "      <td>0</td>\n",
              "      <td>0</td>\n",
              "      <td>0</td>\n",
              "      <td>0</td>\n",
              "    </tr>\n",
              "    <tr>\n",
              "      <th>4</th>\n",
              "      <td>1</td>\n",
              "      <td>1</td>\n",
              "      <td>SRH</td>\n",
              "      <td>RCB</td>\n",
              "      <td>1</td>\n",
              "      <td>5</td>\n",
              "      <td>DA Warner</td>\n",
              "      <td>S Dhawan</td>\n",
              "      <td>TS Mills</td>\n",
              "      <td>0</td>\n",
              "      <td>...</td>\n",
              "      <td>0</td>\n",
              "      <td>0</td>\n",
              "      <td>0</td>\n",
              "      <td>0</td>\n",
              "      <td>0</td>\n",
              "      <td>2</td>\n",
              "      <td>2</td>\n",
              "      <td>0</td>\n",
              "      <td>0</td>\n",
              "      <td>0</td>\n",
              "    </tr>\n",
              "  </tbody>\n",
              "</table>\n",
              "<p>5 rows × 21 columns</p>\n",
              "</div>\n",
              "      <button class=\"colab-df-convert\" onclick=\"convertToInteractive('df-8dabff6a-e8af-4d76-abc2-a20fb1ba5c2e')\"\n",
              "              title=\"Convert this dataframe to an interactive table.\"\n",
              "              style=\"display:none;\">\n",
              "        \n",
              "  <svg xmlns=\"http://www.w3.org/2000/svg\" height=\"24px\"viewBox=\"0 0 24 24\"\n",
              "       width=\"24px\">\n",
              "    <path d=\"M0 0h24v24H0V0z\" fill=\"none\"/>\n",
              "    <path d=\"M18.56 5.44l.94 2.06.94-2.06 2.06-.94-2.06-.94-.94-2.06-.94 2.06-2.06.94zm-11 1L8.5 8.5l.94-2.06 2.06-.94-2.06-.94L8.5 2.5l-.94 2.06-2.06.94zm10 10l.94 2.06.94-2.06 2.06-.94-2.06-.94-.94-2.06-.94 2.06-2.06.94z\"/><path d=\"M17.41 7.96l-1.37-1.37c-.4-.4-.92-.59-1.43-.59-.52 0-1.04.2-1.43.59L10.3 9.45l-7.72 7.72c-.78.78-.78 2.05 0 2.83L4 21.41c.39.39.9.59 1.41.59.51 0 1.02-.2 1.41-.59l7.78-7.78 2.81-2.81c.8-.78.8-2.07 0-2.86zM5.41 20L4 18.59l7.72-7.72 1.47 1.35L5.41 20z\"/>\n",
              "  </svg>\n",
              "      </button>\n",
              "      \n",
              "  <style>\n",
              "    .colab-df-container {\n",
              "      display:flex;\n",
              "      flex-wrap:wrap;\n",
              "      gap: 12px;\n",
              "    }\n",
              "\n",
              "    .colab-df-convert {\n",
              "      background-color: #E8F0FE;\n",
              "      border: none;\n",
              "      border-radius: 50%;\n",
              "      cursor: pointer;\n",
              "      display: none;\n",
              "      fill: #1967D2;\n",
              "      height: 32px;\n",
              "      padding: 0 0 0 0;\n",
              "      width: 32px;\n",
              "    }\n",
              "\n",
              "    .colab-df-convert:hover {\n",
              "      background-color: #E2EBFA;\n",
              "      box-shadow: 0px 1px 2px rgba(60, 64, 67, 0.3), 0px 1px 3px 1px rgba(60, 64, 67, 0.15);\n",
              "      fill: #174EA6;\n",
              "    }\n",
              "\n",
              "    [theme=dark] .colab-df-convert {\n",
              "      background-color: #3B4455;\n",
              "      fill: #D2E3FC;\n",
              "    }\n",
              "\n",
              "    [theme=dark] .colab-df-convert:hover {\n",
              "      background-color: #434B5C;\n",
              "      box-shadow: 0px 1px 3px 1px rgba(0, 0, 0, 0.15);\n",
              "      filter: drop-shadow(0px 1px 2px rgba(0, 0, 0, 0.3));\n",
              "      fill: #FFFFFF;\n",
              "    }\n",
              "  </style>\n",
              "\n",
              "      <script>\n",
              "        const buttonEl =\n",
              "          document.querySelector('#df-8dabff6a-e8af-4d76-abc2-a20fb1ba5c2e button.colab-df-convert');\n",
              "        buttonEl.style.display =\n",
              "          google.colab.kernel.accessAllowed ? 'block' : 'none';\n",
              "\n",
              "        async function convertToInteractive(key) {\n",
              "          const element = document.querySelector('#df-8dabff6a-e8af-4d76-abc2-a20fb1ba5c2e');\n",
              "          const dataTable =\n",
              "            await google.colab.kernel.invokeFunction('convertToInteractive',\n",
              "                                                     [key], {});\n",
              "          if (!dataTable) return;\n",
              "\n",
              "          const docLinkHtml = 'Like what you see? Visit the ' +\n",
              "            '<a target=\"_blank\" href=https://colab.research.google.com/notebooks/data_table.ipynb>data table notebook</a>'\n",
              "            + ' to learn more about interactive tables.';\n",
              "          element.innerHTML = '';\n",
              "          dataTable['output_type'] = 'display_data';\n",
              "          await google.colab.output.renderOutput(dataTable, element);\n",
              "          const docLink = document.createElement('div');\n",
              "          docLink.innerHTML = docLinkHtml;\n",
              "          element.appendChild(docLink);\n",
              "        }\n",
              "      </script>\n",
              "    </div>\n",
              "  </div>\n",
              "  "
            ]
          },
          "metadata": {},
          "execution_count": 107
        }
      ]
    },
    {
      "cell_type": "code",
      "source": [
        "delivery.shape"
      ],
      "metadata": {
        "colab": {
          "base_uri": "https://localhost:8080/"
        },
        "id": "bjciU0u3JDpe",
        "outputId": "b8d300f9-5bd4-4e06-fc79-e493922b6642"
      },
      "execution_count": null,
      "outputs": [
        {
          "output_type": "execute_result",
          "data": {
            "text/plain": [
              "(179078, 21)"
            ]
          },
          "metadata": {},
          "execution_count": 23
        }
      ]
    },
    {
      "cell_type": "code",
      "source": [
        "delivery.describe()"
      ],
      "metadata": {
        "colab": {
          "base_uri": "https://localhost:8080/",
          "height": 364
        },
        "id": "qEv10nmzLa93",
        "outputId": "1bd931c2-76a1-4290-9b36-1414144a018a"
      },
      "execution_count": null,
      "outputs": [
        {
          "output_type": "execute_result",
          "data": {
            "text/plain": [
              "            match_id         inning           over           ball  \\\n",
              "count  179078.000000  179078.000000  179078.000000  179078.000000   \n",
              "mean     1802.252957       1.482952      10.162488       3.615587   \n",
              "std      3472.322805       0.502074       5.677684       1.806966   \n",
              "min         1.000000       1.000000       1.000000       1.000000   \n",
              "25%       190.000000       1.000000       5.000000       2.000000   \n",
              "50%       379.000000       1.000000      10.000000       4.000000   \n",
              "75%       567.000000       2.000000      15.000000       5.000000   \n",
              "max     11415.000000       5.000000      20.000000       9.000000   \n",
              "\n",
              "       is_super_over      wide_runs       bye_runs    legbye_runs  \\\n",
              "count  179078.000000  179078.000000  179078.000000  179078.000000   \n",
              "mean        0.000452       0.036721       0.004936       0.021136   \n",
              "std         0.021263       0.251161       0.116480       0.194908   \n",
              "min         0.000000       0.000000       0.000000       0.000000   \n",
              "25%         0.000000       0.000000       0.000000       0.000000   \n",
              "50%         0.000000       0.000000       0.000000       0.000000   \n",
              "75%         0.000000       0.000000       0.000000       0.000000   \n",
              "max         1.000000       5.000000       4.000000       5.000000   \n",
              "\n",
              "         noball_runs   penalty_runs   batsman_runs     extra_runs  \\\n",
              "count  179078.000000  179078.000000  179078.000000  179078.000000   \n",
              "mean        0.004183       0.000056       1.246864       0.067032   \n",
              "std         0.070492       0.016709       1.608270       0.342553   \n",
              "min         0.000000       0.000000       0.000000       0.000000   \n",
              "25%         0.000000       0.000000       0.000000       0.000000   \n",
              "50%         0.000000       0.000000       1.000000       0.000000   \n",
              "75%         0.000000       0.000000       1.000000       0.000000   \n",
              "max         5.000000       5.000000       7.000000       7.000000   \n",
              "\n",
              "          total_runs  \n",
              "count  179078.000000  \n",
              "mean        1.313897  \n",
              "std         1.605422  \n",
              "min         0.000000  \n",
              "25%         0.000000  \n",
              "50%         1.000000  \n",
              "75%         1.000000  \n",
              "max        10.000000  "
            ],
            "text/html": [
              "\n",
              "  <div id=\"df-8f7eecae-a8e4-4ad9-9981-ef436457c053\">\n",
              "    <div class=\"colab-df-container\">\n",
              "      <div>\n",
              "<style scoped>\n",
              "    .dataframe tbody tr th:only-of-type {\n",
              "        vertical-align: middle;\n",
              "    }\n",
              "\n",
              "    .dataframe tbody tr th {\n",
              "        vertical-align: top;\n",
              "    }\n",
              "\n",
              "    .dataframe thead th {\n",
              "        text-align: right;\n",
              "    }\n",
              "</style>\n",
              "<table border=\"1\" class=\"dataframe\">\n",
              "  <thead>\n",
              "    <tr style=\"text-align: right;\">\n",
              "      <th></th>\n",
              "      <th>match_id</th>\n",
              "      <th>inning</th>\n",
              "      <th>over</th>\n",
              "      <th>ball</th>\n",
              "      <th>is_super_over</th>\n",
              "      <th>wide_runs</th>\n",
              "      <th>bye_runs</th>\n",
              "      <th>legbye_runs</th>\n",
              "      <th>noball_runs</th>\n",
              "      <th>penalty_runs</th>\n",
              "      <th>batsman_runs</th>\n",
              "      <th>extra_runs</th>\n",
              "      <th>total_runs</th>\n",
              "    </tr>\n",
              "  </thead>\n",
              "  <tbody>\n",
              "    <tr>\n",
              "      <th>count</th>\n",
              "      <td>179078.000000</td>\n",
              "      <td>179078.000000</td>\n",
              "      <td>179078.000000</td>\n",
              "      <td>179078.000000</td>\n",
              "      <td>179078.000000</td>\n",
              "      <td>179078.000000</td>\n",
              "      <td>179078.000000</td>\n",
              "      <td>179078.000000</td>\n",
              "      <td>179078.000000</td>\n",
              "      <td>179078.000000</td>\n",
              "      <td>179078.000000</td>\n",
              "      <td>179078.000000</td>\n",
              "      <td>179078.000000</td>\n",
              "    </tr>\n",
              "    <tr>\n",
              "      <th>mean</th>\n",
              "      <td>1802.252957</td>\n",
              "      <td>1.482952</td>\n",
              "      <td>10.162488</td>\n",
              "      <td>3.615587</td>\n",
              "      <td>0.000452</td>\n",
              "      <td>0.036721</td>\n",
              "      <td>0.004936</td>\n",
              "      <td>0.021136</td>\n",
              "      <td>0.004183</td>\n",
              "      <td>0.000056</td>\n",
              "      <td>1.246864</td>\n",
              "      <td>0.067032</td>\n",
              "      <td>1.313897</td>\n",
              "    </tr>\n",
              "    <tr>\n",
              "      <th>std</th>\n",
              "      <td>3472.322805</td>\n",
              "      <td>0.502074</td>\n",
              "      <td>5.677684</td>\n",
              "      <td>1.806966</td>\n",
              "      <td>0.021263</td>\n",
              "      <td>0.251161</td>\n",
              "      <td>0.116480</td>\n",
              "      <td>0.194908</td>\n",
              "      <td>0.070492</td>\n",
              "      <td>0.016709</td>\n",
              "      <td>1.608270</td>\n",
              "      <td>0.342553</td>\n",
              "      <td>1.605422</td>\n",
              "    </tr>\n",
              "    <tr>\n",
              "      <th>min</th>\n",
              "      <td>1.000000</td>\n",
              "      <td>1.000000</td>\n",
              "      <td>1.000000</td>\n",
              "      <td>1.000000</td>\n",
              "      <td>0.000000</td>\n",
              "      <td>0.000000</td>\n",
              "      <td>0.000000</td>\n",
              "      <td>0.000000</td>\n",
              "      <td>0.000000</td>\n",
              "      <td>0.000000</td>\n",
              "      <td>0.000000</td>\n",
              "      <td>0.000000</td>\n",
              "      <td>0.000000</td>\n",
              "    </tr>\n",
              "    <tr>\n",
              "      <th>25%</th>\n",
              "      <td>190.000000</td>\n",
              "      <td>1.000000</td>\n",
              "      <td>5.000000</td>\n",
              "      <td>2.000000</td>\n",
              "      <td>0.000000</td>\n",
              "      <td>0.000000</td>\n",
              "      <td>0.000000</td>\n",
              "      <td>0.000000</td>\n",
              "      <td>0.000000</td>\n",
              "      <td>0.000000</td>\n",
              "      <td>0.000000</td>\n",
              "      <td>0.000000</td>\n",
              "      <td>0.000000</td>\n",
              "    </tr>\n",
              "    <tr>\n",
              "      <th>50%</th>\n",
              "      <td>379.000000</td>\n",
              "      <td>1.000000</td>\n",
              "      <td>10.000000</td>\n",
              "      <td>4.000000</td>\n",
              "      <td>0.000000</td>\n",
              "      <td>0.000000</td>\n",
              "      <td>0.000000</td>\n",
              "      <td>0.000000</td>\n",
              "      <td>0.000000</td>\n",
              "      <td>0.000000</td>\n",
              "      <td>1.000000</td>\n",
              "      <td>0.000000</td>\n",
              "      <td>1.000000</td>\n",
              "    </tr>\n",
              "    <tr>\n",
              "      <th>75%</th>\n",
              "      <td>567.000000</td>\n",
              "      <td>2.000000</td>\n",
              "      <td>15.000000</td>\n",
              "      <td>5.000000</td>\n",
              "      <td>0.000000</td>\n",
              "      <td>0.000000</td>\n",
              "      <td>0.000000</td>\n",
              "      <td>0.000000</td>\n",
              "      <td>0.000000</td>\n",
              "      <td>0.000000</td>\n",
              "      <td>1.000000</td>\n",
              "      <td>0.000000</td>\n",
              "      <td>1.000000</td>\n",
              "    </tr>\n",
              "    <tr>\n",
              "      <th>max</th>\n",
              "      <td>11415.000000</td>\n",
              "      <td>5.000000</td>\n",
              "      <td>20.000000</td>\n",
              "      <td>9.000000</td>\n",
              "      <td>1.000000</td>\n",
              "      <td>5.000000</td>\n",
              "      <td>4.000000</td>\n",
              "      <td>5.000000</td>\n",
              "      <td>5.000000</td>\n",
              "      <td>5.000000</td>\n",
              "      <td>7.000000</td>\n",
              "      <td>7.000000</td>\n",
              "      <td>10.000000</td>\n",
              "    </tr>\n",
              "  </tbody>\n",
              "</table>\n",
              "</div>\n",
              "      <button class=\"colab-df-convert\" onclick=\"convertToInteractive('df-8f7eecae-a8e4-4ad9-9981-ef436457c053')\"\n",
              "              title=\"Convert this dataframe to an interactive table.\"\n",
              "              style=\"display:none;\">\n",
              "        \n",
              "  <svg xmlns=\"http://www.w3.org/2000/svg\" height=\"24px\"viewBox=\"0 0 24 24\"\n",
              "       width=\"24px\">\n",
              "    <path d=\"M0 0h24v24H0V0z\" fill=\"none\"/>\n",
              "    <path d=\"M18.56 5.44l.94 2.06.94-2.06 2.06-.94-2.06-.94-.94-2.06-.94 2.06-2.06.94zm-11 1L8.5 8.5l.94-2.06 2.06-.94-2.06-.94L8.5 2.5l-.94 2.06-2.06.94zm10 10l.94 2.06.94-2.06 2.06-.94-2.06-.94-.94-2.06-.94 2.06-2.06.94z\"/><path d=\"M17.41 7.96l-1.37-1.37c-.4-.4-.92-.59-1.43-.59-.52 0-1.04.2-1.43.59L10.3 9.45l-7.72 7.72c-.78.78-.78 2.05 0 2.83L4 21.41c.39.39.9.59 1.41.59.51 0 1.02-.2 1.41-.59l7.78-7.78 2.81-2.81c.8-.78.8-2.07 0-2.86zM5.41 20L4 18.59l7.72-7.72 1.47 1.35L5.41 20z\"/>\n",
              "  </svg>\n",
              "      </button>\n",
              "      \n",
              "  <style>\n",
              "    .colab-df-container {\n",
              "      display:flex;\n",
              "      flex-wrap:wrap;\n",
              "      gap: 12px;\n",
              "    }\n",
              "\n",
              "    .colab-df-convert {\n",
              "      background-color: #E8F0FE;\n",
              "      border: none;\n",
              "      border-radius: 50%;\n",
              "      cursor: pointer;\n",
              "      display: none;\n",
              "      fill: #1967D2;\n",
              "      height: 32px;\n",
              "      padding: 0 0 0 0;\n",
              "      width: 32px;\n",
              "    }\n",
              "\n",
              "    .colab-df-convert:hover {\n",
              "      background-color: #E2EBFA;\n",
              "      box-shadow: 0px 1px 2px rgba(60, 64, 67, 0.3), 0px 1px 3px 1px rgba(60, 64, 67, 0.15);\n",
              "      fill: #174EA6;\n",
              "    }\n",
              "\n",
              "    [theme=dark] .colab-df-convert {\n",
              "      background-color: #3B4455;\n",
              "      fill: #D2E3FC;\n",
              "    }\n",
              "\n",
              "    [theme=dark] .colab-df-convert:hover {\n",
              "      background-color: #434B5C;\n",
              "      box-shadow: 0px 1px 3px 1px rgba(0, 0, 0, 0.15);\n",
              "      filter: drop-shadow(0px 1px 2px rgba(0, 0, 0, 0.3));\n",
              "      fill: #FFFFFF;\n",
              "    }\n",
              "  </style>\n",
              "\n",
              "      <script>\n",
              "        const buttonEl =\n",
              "          document.querySelector('#df-8f7eecae-a8e4-4ad9-9981-ef436457c053 button.colab-df-convert');\n",
              "        buttonEl.style.display =\n",
              "          google.colab.kernel.accessAllowed ? 'block' : 'none';\n",
              "\n",
              "        async function convertToInteractive(key) {\n",
              "          const element = document.querySelector('#df-8f7eecae-a8e4-4ad9-9981-ef436457c053');\n",
              "          const dataTable =\n",
              "            await google.colab.kernel.invokeFunction('convertToInteractive',\n",
              "                                                     [key], {});\n",
              "          if (!dataTable) return;\n",
              "\n",
              "          const docLinkHtml = 'Like what you see? Visit the ' +\n",
              "            '<a target=\"_blank\" href=https://colab.research.google.com/notebooks/data_table.ipynb>data table notebook</a>'\n",
              "            + ' to learn more about interactive tables.';\n",
              "          element.innerHTML = '';\n",
              "          dataTable['output_type'] = 'display_data';\n",
              "          await google.colab.output.renderOutput(dataTable, element);\n",
              "          const docLink = document.createElement('div');\n",
              "          docLink.innerHTML = docLinkHtml;\n",
              "          element.appendChild(docLink);\n",
              "        }\n",
              "      </script>\n",
              "    </div>\n",
              "  </div>\n",
              "  "
            ]
          },
          "metadata": {},
          "execution_count": 108
        }
      ]
    },
    {
      "cell_type": "code",
      "source": [
        "matches.isnull().sum()"
      ],
      "metadata": {
        "colab": {
          "base_uri": "https://localhost:8080/"
        },
        "id": "W8M7PCHGLd5V",
        "outputId": "9c4f75aa-be8a-44ab-96a8-58a96ad86499"
      },
      "execution_count": null,
      "outputs": [
        {
          "output_type": "execute_result",
          "data": {
            "text/plain": [
              "id                   0\n",
              "season               0\n",
              "city                 7\n",
              "date                 0\n",
              "team1                0\n",
              "team2                0\n",
              "toss_winner          0\n",
              "toss_decision        0\n",
              "result               0\n",
              "dl_applied           0\n",
              "winner               4\n",
              "win_by_runs          0\n",
              "win_by_wickets       0\n",
              "player_of_match      4\n",
              "venue                0\n",
              "umpire1              2\n",
              "umpire2              2\n",
              "umpire3            637\n",
              "dtype: int64"
            ]
          },
          "metadata": {},
          "execution_count": 25
        }
      ]
    },
    {
      "cell_type": "code",
      "source": [
        "delivery.isnull().sum()"
      ],
      "metadata": {
        "colab": {
          "base_uri": "https://localhost:8080/"
        },
        "id": "2E-6UVWxMPky",
        "outputId": "d2d9393a-3384-404a-f28d-045a967af6b9"
      },
      "execution_count": null,
      "outputs": [
        {
          "output_type": "execute_result",
          "data": {
            "text/plain": [
              "match_id                 0\n",
              "inning                   0\n",
              "batting_team             0\n",
              "bowling_team             0\n",
              "over                     0\n",
              "ball                     0\n",
              "batsman                  0\n",
              "non_striker              0\n",
              "bowler                   0\n",
              "is_super_over            0\n",
              "wide_runs                0\n",
              "bye_runs                 0\n",
              "legbye_runs              0\n",
              "noball_runs              0\n",
              "penalty_runs             0\n",
              "batsman_runs             0\n",
              "extra_runs               0\n",
              "total_runs               0\n",
              "player_dismissed    170244\n",
              "dismissal_kind      170244\n",
              "fielder             172630\n",
              "dtype: int64"
            ]
          },
          "metadata": {},
          "execution_count": 26
        }
      ]
    },
    {
      "cell_type": "code",
      "source": [
        "matches.drop(['umpire3'],axis=1,inplace=True)"
      ],
      "metadata": {
        "id": "F31G2A5iMUi2"
      },
      "execution_count": null,
      "outputs": []
    },
    {
      "cell_type": "code",
      "source": [
        "delivery.fillna(0,inplace=True)"
      ],
      "metadata": {
        "id": "unoaz2XyN9R2"
      },
      "execution_count": null,
      "outputs": []
    },
    {
      "cell_type": "code",
      "source": [
        "delivery.isnull().sum()"
      ],
      "metadata": {
        "colab": {
          "base_uri": "https://localhost:8080/"
        },
        "id": "GGU9c7PGOHhl",
        "outputId": "d03ca014-e465-4759-81ca-8febc5395fe4"
      },
      "execution_count": null,
      "outputs": [
        {
          "output_type": "execute_result",
          "data": {
            "text/plain": [
              "match_id            0\n",
              "inning              0\n",
              "batting_team        0\n",
              "bowling_team        0\n",
              "over                0\n",
              "ball                0\n",
              "batsman             0\n",
              "non_striker         0\n",
              "bowler              0\n",
              "is_super_over       0\n",
              "wide_runs           0\n",
              "bye_runs            0\n",
              "legbye_runs         0\n",
              "noball_runs         0\n",
              "penalty_runs        0\n",
              "batsman_runs        0\n",
              "extra_runs          0\n",
              "total_runs          0\n",
              "player_dismissed    0\n",
              "dismissal_kind      0\n",
              "fielder             0\n",
              "dtype: int64"
            ]
          },
          "metadata": {},
          "execution_count": 29
        }
      ]
    },
    {
      "cell_type": "code",
      "source": [
        "matches.fillna(0,inplace=True)\n",
        "matches.isnull().sum()"
      ],
      "metadata": {
        "colab": {
          "base_uri": "https://localhost:8080/"
        },
        "id": "pkatnX0LOMX1",
        "outputId": "fd19bcaf-e193-47f2-cd5e-a496403c6a58"
      },
      "execution_count": null,
      "outputs": [
        {
          "output_type": "execute_result",
          "data": {
            "text/plain": [
              "id                 0\n",
              "season             0\n",
              "city               0\n",
              "date               0\n",
              "team1              0\n",
              "team2              0\n",
              "toss_winner        0\n",
              "toss_decision      0\n",
              "result             0\n",
              "dl_applied         0\n",
              "winner             0\n",
              "win_by_runs        0\n",
              "win_by_wickets     0\n",
              "player_of_match    0\n",
              "venue              0\n",
              "umpire1            0\n",
              "umpire2            0\n",
              "dtype: int64"
            ]
          },
          "metadata": {},
          "execution_count": 33
        }
      ]
    },
    {
      "cell_type": "markdown",
      "source": [
        "***Null values are Eradicated***"
      ],
      "metadata": {
        "id": "I6ln49KbOi0Y"
      }
    },
    {
      "cell_type": "code",
      "source": [
        "matches['team1'].unique()"
      ],
      "metadata": {
        "colab": {
          "base_uri": "https://localhost:8080/"
        },
        "id": "qHK9_oICPHgh",
        "outputId": "2be05258-6262-4fb6-d0a6-151a1bf7725b"
      },
      "execution_count": null,
      "outputs": [
        {
          "output_type": "execute_result",
          "data": {
            "text/plain": [
              "array(['Sunrisers Hyderabad', 'Mumbai Indians', 'Gujarat Lions',\n",
              "       'Rising Pune Supergiant', 'Royal Challengers Bangalore',\n",
              "       'Kolkata Knight Riders', 'Delhi Daredevils', 'Kings XI Punjab',\n",
              "       'Chennai Super Kings', 'Rajasthan Royals', 'Deccan Chargers',\n",
              "       'Kochi Tuskers Kerala', 'Pune Warriors', 'Rising Pune Supergiants',\n",
              "       'Delhi Capitals'], dtype=object)"
            ]
          },
          "metadata": {},
          "execution_count": 34
        }
      ]
    },
    {
      "cell_type": "markdown",
      "source": [
        "***Renaming the Teams as per Convenience***"
      ],
      "metadata": {
        "id": "u3XXpGMhoO4Z"
      }
    },
    {
      "cell_type": "code",
      "source": [
        "delivery.replace(['Mumbai Indians','Kolkata Knight Riders','Royal Challengers Bangalore','Deccan Chargers','Chennai Super Kings',\n",
        "                 'Rajasthan Royals','Delhi Daredevils','Gujarat Lions','Kings XI Punjab',\n",
        "                 'Sunrisers Hyderabad','Rising Pune Supergiants','Kochi Tuskers Kerala','Pune Warriors','Rising Pune Supergiant']\n",
        "                ,['MI','KKR','RCB','DC','CSK','RR','DD','GL','KXIP','SRH','RPS','KTK','PW','RPS'],inplace=True)"
      ],
      "metadata": {
        "id": "qdI2vXx8oZdr"
      },
      "execution_count": null,
      "outputs": []
    },
    {
      "cell_type": "code",
      "source": [
        "matches.replace(['Mumbai Indians','Kolkata Knight Riders','Royal Challengers Bangalore','Deccan Chargers','Chennai Super Kings',\n",
        "                 'Rajasthan Royals','Delhi Daredevils','Gujarat Lions','Kings XI Punjab',\n",
        "                 'Sunrisers Hyderabad','Rising Pune Supergiants','Kochi Tuskers Kerala','Pune Warriors','Rising Pune Supergiant']\n",
        "                ,['MI','KKR','RCB','DC','CSK','RR','DD','GL','KXIP','SRH','RPS','KTK','PW','RPS'],inplace=True)"
      ],
      "metadata": {
        "id": "M1PgFypzopPP"
      },
      "execution_count": null,
      "outputs": []
    },
    {
      "cell_type": "code",
      "source": [
        "print('Total number of venues where the sport was played at:',matches['city'].nunique())\n",
        "print('Total number of umpires:',matches['umpire1'].nunique())"
      ],
      "metadata": {
        "colab": {
          "base_uri": "https://localhost:8080/"
        },
        "id": "a0NbGKeiosyU",
        "outputId": "41621406-4bd6-45b9-e655-d9391229b55f"
      },
      "execution_count": null,
      "outputs": [
        {
          "output_type": "stream",
          "name": "stdout",
          "text": [
            "Total number of venues where the sport was played at: 33\n",
            "Total number of umpires: 62\n"
          ]
        }
      ]
    },
    {
      "cell_type": "code",
      "source": [
        "print('Total Matches Played:',matches.shape[0])\n",
        "print('Venue Played At:',matches['city'].unique())\n",
        "print('Teams :',matches['team1'].unique())"
      ],
      "metadata": {
        "colab": {
          "base_uri": "https://localhost:8080/"
        },
        "id": "bZi7QcGDpAEG",
        "outputId": "99b27d50-0c5e-4ca8-b5a5-c7cee98baddf"
      },
      "execution_count": null,
      "outputs": [
        {
          "output_type": "stream",
          "name": "stdout",
          "text": [
            "Total Matches Played: 756\n",
            "Venue Played At: ['Hyderabad' 'Pune' 'Rajkot' 'Indore' 'Bangalore' 'Mumbai' 'Kolkata'\n",
            " 'Delhi' 'Chandigarh' 'Kanpur' 'Jaipur' 'Chennai' 'Cape Town'\n",
            " 'Port Elizabeth' 'Durban' 'Centurion' 'East London' 'Johannesburg'\n",
            " 'Kimberley' 'Bloemfontein' 'Ahmedabad' 'Cuttack' 'Nagpur' 'Dharamsala'\n",
            " 'Kochi' 'Visakhapatnam' 'Raipur' 'Ranchi' 'Abu Dhabi' 'Sharjah' 0\n",
            " 'Mohali' 'Bengaluru']\n",
            "Teams : ['SRH' 'MI' 'GL' 'RPS' 'RCB' 'KKR' 'DD' 'KXIP' 'CSK' 'RR' 'DC' 'KTK' 'PW'\n",
            " 'Delhi Capitals']\n"
          ]
        }
      ]
    },
    {
      "cell_type": "code",
      "source": [
        "# IDXMax :Return index of first occurrence of maximum over requested axis. NA/null values are excluded.\n",
        "print('The player who has won maximum number of man of the match awards    : ', (matches['player_of_match'].value_counts()).idxmax())\n",
        "print('The player who has won maximum number of successful winning matches : ', ((matches['winner']).value_counts()).idxmax())"
      ],
      "metadata": {
        "colab": {
          "base_uri": "https://localhost:8080/"
        },
        "id": "LUXo8T48qGCf",
        "outputId": "c04d5ce2-468d-43b2-c7ac-180f2d771eb0"
      },
      "execution_count": null,
      "outputs": [
        {
          "output_type": "stream",
          "name": "stdout",
          "text": [
            "The player who has won maximum number of man of the match awards    :  CH Gayle\n",
            "The player who has won maximum number of successful winning matches :  MI\n"
          ]
        }
      ]
    },
    {
      "cell_type": "code",
      "source": [
        "df = matches.iloc[[matches['win_by_runs'].idxmax()]]\n",
        "df[['season','team1','team2','winner','win_by_runs']]"
      ],
      "metadata": {
        "colab": {
          "base_uri": "https://localhost:8080/",
          "height": 80
        },
        "id": "xNx84M3bqEpW",
        "outputId": "ad28cb27-b56d-4224-dbd6-cd098591a572"
      },
      "execution_count": null,
      "outputs": [
        {
          "output_type": "execute_result",
          "data": {
            "text/plain": [
              "    season team1 team2 winner  win_by_runs\n",
              "43    2017    MI    DD     MI          146"
            ],
            "text/html": [
              "\n",
              "  <div id=\"df-14c6f33e-fb40-48be-a7d0-9851193ffd5a\">\n",
              "    <div class=\"colab-df-container\">\n",
              "      <div>\n",
              "<style scoped>\n",
              "    .dataframe tbody tr th:only-of-type {\n",
              "        vertical-align: middle;\n",
              "    }\n",
              "\n",
              "    .dataframe tbody tr th {\n",
              "        vertical-align: top;\n",
              "    }\n",
              "\n",
              "    .dataframe thead th {\n",
              "        text-align: right;\n",
              "    }\n",
              "</style>\n",
              "<table border=\"1\" class=\"dataframe\">\n",
              "  <thead>\n",
              "    <tr style=\"text-align: right;\">\n",
              "      <th></th>\n",
              "      <th>season</th>\n",
              "      <th>team1</th>\n",
              "      <th>team2</th>\n",
              "      <th>winner</th>\n",
              "      <th>win_by_runs</th>\n",
              "    </tr>\n",
              "  </thead>\n",
              "  <tbody>\n",
              "    <tr>\n",
              "      <th>43</th>\n",
              "      <td>2017</td>\n",
              "      <td>MI</td>\n",
              "      <td>DD</td>\n",
              "      <td>MI</td>\n",
              "      <td>146</td>\n",
              "    </tr>\n",
              "  </tbody>\n",
              "</table>\n",
              "</div>\n",
              "      <button class=\"colab-df-convert\" onclick=\"convertToInteractive('df-14c6f33e-fb40-48be-a7d0-9851193ffd5a')\"\n",
              "              title=\"Convert this dataframe to an interactive table.\"\n",
              "              style=\"display:none;\">\n",
              "        \n",
              "  <svg xmlns=\"http://www.w3.org/2000/svg\" height=\"24px\"viewBox=\"0 0 24 24\"\n",
              "       width=\"24px\">\n",
              "    <path d=\"M0 0h24v24H0V0z\" fill=\"none\"/>\n",
              "    <path d=\"M18.56 5.44l.94 2.06.94-2.06 2.06-.94-2.06-.94-.94-2.06-.94 2.06-2.06.94zm-11 1L8.5 8.5l.94-2.06 2.06-.94-2.06-.94L8.5 2.5l-.94 2.06-2.06.94zm10 10l.94 2.06.94-2.06 2.06-.94-2.06-.94-.94-2.06-.94 2.06-2.06.94z\"/><path d=\"M17.41 7.96l-1.37-1.37c-.4-.4-.92-.59-1.43-.59-.52 0-1.04.2-1.43.59L10.3 9.45l-7.72 7.72c-.78.78-.78 2.05 0 2.83L4 21.41c.39.39.9.59 1.41.59.51 0 1.02-.2 1.41-.59l7.78-7.78 2.81-2.81c.8-.78.8-2.07 0-2.86zM5.41 20L4 18.59l7.72-7.72 1.47 1.35L5.41 20z\"/>\n",
              "  </svg>\n",
              "      </button>\n",
              "      \n",
              "  <style>\n",
              "    .colab-df-container {\n",
              "      display:flex;\n",
              "      flex-wrap:wrap;\n",
              "      gap: 12px;\n",
              "    }\n",
              "\n",
              "    .colab-df-convert {\n",
              "      background-color: #E8F0FE;\n",
              "      border: none;\n",
              "      border-radius: 50%;\n",
              "      cursor: pointer;\n",
              "      display: none;\n",
              "      fill: #1967D2;\n",
              "      height: 32px;\n",
              "      padding: 0 0 0 0;\n",
              "      width: 32px;\n",
              "    }\n",
              "\n",
              "    .colab-df-convert:hover {\n",
              "      background-color: #E2EBFA;\n",
              "      box-shadow: 0px 1px 2px rgba(60, 64, 67, 0.3), 0px 1px 3px 1px rgba(60, 64, 67, 0.15);\n",
              "      fill: #174EA6;\n",
              "    }\n",
              "\n",
              "    [theme=dark] .colab-df-convert {\n",
              "      background-color: #3B4455;\n",
              "      fill: #D2E3FC;\n",
              "    }\n",
              "\n",
              "    [theme=dark] .colab-df-convert:hover {\n",
              "      background-color: #434B5C;\n",
              "      box-shadow: 0px 1px 3px 1px rgba(0, 0, 0, 0.15);\n",
              "      filter: drop-shadow(0px 1px 2px rgba(0, 0, 0, 0.3));\n",
              "      fill: #FFFFFF;\n",
              "    }\n",
              "  </style>\n",
              "\n",
              "      <script>\n",
              "        const buttonEl =\n",
              "          document.querySelector('#df-14c6f33e-fb40-48be-a7d0-9851193ffd5a button.colab-df-convert');\n",
              "        buttonEl.style.display =\n",
              "          google.colab.kernel.accessAllowed ? 'block' : 'none';\n",
              "\n",
              "        async function convertToInteractive(key) {\n",
              "          const element = document.querySelector('#df-14c6f33e-fb40-48be-a7d0-9851193ffd5a');\n",
              "          const dataTable =\n",
              "            await google.colab.kernel.invokeFunction('convertToInteractive',\n",
              "                                                     [key], {});\n",
              "          if (!dataTable) return;\n",
              "\n",
              "          const docLinkHtml = 'Like what you see? Visit the ' +\n",
              "            '<a target=\"_blank\" href=https://colab.research.google.com/notebooks/data_table.ipynb>data table notebook</a>'\n",
              "            + ' to learn more about interactive tables.';\n",
              "          element.innerHTML = '';\n",
              "          dataTable['output_type'] = 'display_data';\n",
              "          await google.colab.output.renderOutput(dataTable, element);\n",
              "          const docLink = document.createElement('div');\n",
              "          docLink.innerHTML = docLinkHtml;\n",
              "          element.appendChild(docLink);\n",
              "        }\n",
              "      </script>\n",
              "    </div>\n",
              "  </div>\n",
              "  "
            ]
          },
          "metadata": {},
          "execution_count": 49
        }
      ]
    },
    {
      "cell_type": "markdown",
      "source": [
        "Mumbai Indians(MI) defeated Delhi Daredevils(DD) with highest run difference of 146 runs"
      ],
      "metadata": {
        "id": "64LkAOqpwq-7"
      }
    },
    {
      "cell_type": "code",
      "source": [
        "df1 = matches.iloc[[matches['win_by_wickets'].idxmax()]]\n",
        "df1[['season','team1','team2','winner','win_by_wickets']]"
      ],
      "metadata": {
        "colab": {
          "base_uri": "https://localhost:8080/",
          "height": 80
        },
        "id": "hoAcIUeKw78w",
        "outputId": "9610d413-9a58-457c-ce2f-53089d70a7bf"
      },
      "execution_count": null,
      "outputs": [
        {
          "output_type": "execute_result",
          "data": {
            "text/plain": [
              "   season team1 team2 winner  win_by_wickets\n",
              "2    2017    GL   KKR    KKR              10"
            ],
            "text/html": [
              "\n",
              "  <div id=\"df-e5eb8b45-15a2-4ba3-84c3-9b3a3c72ab82\">\n",
              "    <div class=\"colab-df-container\">\n",
              "      <div>\n",
              "<style scoped>\n",
              "    .dataframe tbody tr th:only-of-type {\n",
              "        vertical-align: middle;\n",
              "    }\n",
              "\n",
              "    .dataframe tbody tr th {\n",
              "        vertical-align: top;\n",
              "    }\n",
              "\n",
              "    .dataframe thead th {\n",
              "        text-align: right;\n",
              "    }\n",
              "</style>\n",
              "<table border=\"1\" class=\"dataframe\">\n",
              "  <thead>\n",
              "    <tr style=\"text-align: right;\">\n",
              "      <th></th>\n",
              "      <th>season</th>\n",
              "      <th>team1</th>\n",
              "      <th>team2</th>\n",
              "      <th>winner</th>\n",
              "      <th>win_by_wickets</th>\n",
              "    </tr>\n",
              "  </thead>\n",
              "  <tbody>\n",
              "    <tr>\n",
              "      <th>2</th>\n",
              "      <td>2017</td>\n",
              "      <td>GL</td>\n",
              "      <td>KKR</td>\n",
              "      <td>KKR</td>\n",
              "      <td>10</td>\n",
              "    </tr>\n",
              "  </tbody>\n",
              "</table>\n",
              "</div>\n",
              "      <button class=\"colab-df-convert\" onclick=\"convertToInteractive('df-e5eb8b45-15a2-4ba3-84c3-9b3a3c72ab82')\"\n",
              "              title=\"Convert this dataframe to an interactive table.\"\n",
              "              style=\"display:none;\">\n",
              "        \n",
              "  <svg xmlns=\"http://www.w3.org/2000/svg\" height=\"24px\"viewBox=\"0 0 24 24\"\n",
              "       width=\"24px\">\n",
              "    <path d=\"M0 0h24v24H0V0z\" fill=\"none\"/>\n",
              "    <path d=\"M18.56 5.44l.94 2.06.94-2.06 2.06-.94-2.06-.94-.94-2.06-.94 2.06-2.06.94zm-11 1L8.5 8.5l.94-2.06 2.06-.94-2.06-.94L8.5 2.5l-.94 2.06-2.06.94zm10 10l.94 2.06.94-2.06 2.06-.94-2.06-.94-.94-2.06-.94 2.06-2.06.94z\"/><path d=\"M17.41 7.96l-1.37-1.37c-.4-.4-.92-.59-1.43-.59-.52 0-1.04.2-1.43.59L10.3 9.45l-7.72 7.72c-.78.78-.78 2.05 0 2.83L4 21.41c.39.39.9.59 1.41.59.51 0 1.02-.2 1.41-.59l7.78-7.78 2.81-2.81c.8-.78.8-2.07 0-2.86zM5.41 20L4 18.59l7.72-7.72 1.47 1.35L5.41 20z\"/>\n",
              "  </svg>\n",
              "      </button>\n",
              "      \n",
              "  <style>\n",
              "    .colab-df-container {\n",
              "      display:flex;\n",
              "      flex-wrap:wrap;\n",
              "      gap: 12px;\n",
              "    }\n",
              "\n",
              "    .colab-df-convert {\n",
              "      background-color: #E8F0FE;\n",
              "      border: none;\n",
              "      border-radius: 50%;\n",
              "      cursor: pointer;\n",
              "      display: none;\n",
              "      fill: #1967D2;\n",
              "      height: 32px;\n",
              "      padding: 0 0 0 0;\n",
              "      width: 32px;\n",
              "    }\n",
              "\n",
              "    .colab-df-convert:hover {\n",
              "      background-color: #E2EBFA;\n",
              "      box-shadow: 0px 1px 2px rgba(60, 64, 67, 0.3), 0px 1px 3px 1px rgba(60, 64, 67, 0.15);\n",
              "      fill: #174EA6;\n",
              "    }\n",
              "\n",
              "    [theme=dark] .colab-df-convert {\n",
              "      background-color: #3B4455;\n",
              "      fill: #D2E3FC;\n",
              "    }\n",
              "\n",
              "    [theme=dark] .colab-df-convert:hover {\n",
              "      background-color: #434B5C;\n",
              "      box-shadow: 0px 1px 3px 1px rgba(0, 0, 0, 0.15);\n",
              "      filter: drop-shadow(0px 1px 2px rgba(0, 0, 0, 0.3));\n",
              "      fill: #FFFFFF;\n",
              "    }\n",
              "  </style>\n",
              "\n",
              "      <script>\n",
              "        const buttonEl =\n",
              "          document.querySelector('#df-e5eb8b45-15a2-4ba3-84c3-9b3a3c72ab82 button.colab-df-convert');\n",
              "        buttonEl.style.display =\n",
              "          google.colab.kernel.accessAllowed ? 'block' : 'none';\n",
              "\n",
              "        async function convertToInteractive(key) {\n",
              "          const element = document.querySelector('#df-e5eb8b45-15a2-4ba3-84c3-9b3a3c72ab82');\n",
              "          const dataTable =\n",
              "            await google.colab.kernel.invokeFunction('convertToInteractive',\n",
              "                                                     [key], {});\n",
              "          if (!dataTable) return;\n",
              "\n",
              "          const docLinkHtml = 'Like what you see? Visit the ' +\n",
              "            '<a target=\"_blank\" href=https://colab.research.google.com/notebooks/data_table.ipynb>data table notebook</a>'\n",
              "            + ' to learn more about interactive tables.';\n",
              "          element.innerHTML = '';\n",
              "          dataTable['output_type'] = 'display_data';\n",
              "          await google.colab.output.renderOutput(dataTable, element);\n",
              "          const docLink = document.createElement('div');\n",
              "          docLink.innerHTML = docLinkHtml;\n",
              "          element.appendChild(docLink);\n",
              "        }\n",
              "      </script>\n",
              "    </div>\n",
              "  </div>\n",
              "  "
            ]
          },
          "metadata": {},
          "execution_count": 48
        }
      ]
    },
    {
      "cell_type": "markdown",
      "source": [
        "Kolkata Knight Riders(KKR) defeated Gujrat Lions(GL) with the highest wins by 10 wickets"
      ],
      "metadata": {
        "id": "js6dKqIHxpjj"
      }
    },
    {
      "cell_type": "markdown",
      "source": [
        "## **Year-Wise Winners**\n"
      ],
      "metadata": {
        "id": "MKARt3NDyS_8"
      }
    },
    {
      "cell_type": "code",
      "source": [
        "print('Year wise winners :')\n",
        "for i in range(2008,2018):\n",
        "    df=((matches[matches['season']==i]).iloc[-1])\n",
        "    print(df[[1,10]].values)"
      ],
      "metadata": {
        "colab": {
          "base_uri": "https://localhost:8080/"
        },
        "id": "fN38m48ByXeq",
        "outputId": "46cf059a-4a33-4d8f-eb08-5ce90b285c3f"
      },
      "execution_count": null,
      "outputs": [
        {
          "output_type": "stream",
          "name": "stdout",
          "text": [
            "Year wise winners :\n",
            "[2008 'RR']\n",
            "[2009 'DC']\n",
            "[2010 'CSK']\n",
            "[2011 'CSK']\n",
            "[2012 'KKR']\n",
            "[2013 'MI']\n",
            "[2014 'KKR']\n",
            "[2015 'MI']\n",
            "[2016 'SRH']\n",
            "[2017 'MI']\n"
          ]
        }
      ]
    },
    {
      "cell_type": "markdown",
      "source": [
        "## **Toss Decision taken after Winning the Toss**"
      ],
      "metadata": {
        "id": "Q7RtSnhW5LUB"
      }
    },
    {
      "cell_type": "code",
      "source": [
        "matches['toss_decision'].value_counts()"
      ],
      "metadata": {
        "colab": {
          "base_uri": "https://localhost:8080/"
        },
        "id": "q2_paCIF9XUZ",
        "outputId": "1ad1d6fc-06ac-49a3-9a2a-c0e477c7fc81"
      },
      "execution_count": null,
      "outputs": [
        {
          "output_type": "execute_result",
          "data": {
            "text/plain": [
              "field    463\n",
              "bat      293\n",
              "Name: toss_decision, dtype: int64"
            ]
          },
          "metadata": {},
          "execution_count": 64
        }
      ]
    },
    {
      "cell_type": "code",
      "source": [
        "# 756 being the total decisions taken\n",
        "print('Toss Decisions in %\\n',((matches['toss_decision']).value_counts())/756*100)"
      ],
      "metadata": {
        "colab": {
          "base_uri": "https://localhost:8080/"
        },
        "id": "K6GsSQIS5T4-",
        "outputId": "606bfbbc-e576-4d67-f231-82af5b2e8d69"
      },
      "execution_count": null,
      "outputs": [
        {
          "output_type": "stream",
          "name": "stdout",
          "text": [
            "Toss Decisions in %\n",
            " field    61.243386\n",
            "bat      38.756614\n",
            "Name: toss_decision, dtype: float64\n"
          ]
        }
      ]
    },
    {
      "cell_type": "markdown",
      "source": [
        "**Maximum Teams chose Fielding (which is more logical in terms of chasing a certain goal)**"
      ],
      "metadata": {
        "id": "RdaZz39Q9iqo"
      }
    },
    {
      "cell_type": "markdown",
      "source": [
        "## **Super over matches**"
      ],
      "metadata": {
        "id": "ZPgsHuSN90Sx"
      }
    },
    {
      "cell_type": "code",
      "source": [
        "print('Total number of matches with Super overs:',delivery[delivery['is_super_over']==1].match_id.nunique())"
      ],
      "metadata": {
        "colab": {
          "base_uri": "https://localhost:8080/"
        },
        "id": "JFnYvKg793oH",
        "outputId": "6938c450-819d-48c7-8fae-b0378042493c"
      },
      "execution_count": null,
      "outputs": [
        {
          "output_type": "stream",
          "name": "stdout",
          "text": [
            "Total number of matches with Super overs: 7\n"
          ]
        }
      ]
    },
    {
      "cell_type": "markdown",
      "source": [
        "# **Graphical Data**"
      ],
      "metadata": {
        "id": "Xlp07GGa-tI9"
      }
    },
    {
      "cell_type": "markdown",
      "source": [
        "## **Maximum tosses won by**"
      ],
      "metadata": {
        "id": "1hGcHYYR_UX-"
      }
    },
    {
      "cell_type": "code",
      "source": [
        "plt.subplots(figsize=(8,4))\n",
        "ax = matches['toss_winner'].value_counts().plot.bar(width=0.9,color=sns.color_palette('inferno',20))\n",
        "for p in ax.patches:\n",
        "    ax.annotate(format(p.get_height()), (p.get_x()+0.15, p.get_height()+1))\n",
        "plt.xlabel('Teams')\n",
        "plt.ylabel('Count')\n",
        "plt.show()"
      ],
      "metadata": {
        "colab": {
          "base_uri": "https://localhost:8080/",
          "height": 532
        },
        "id": "c45kUSm-_XB0",
        "outputId": "42122d23-2a85-4511-b4dd-4f30d0e791f0"
      },
      "execution_count": null,
      "outputs": [
        {
          "output_type": "display_data",
          "data": {
            "text/plain": [
              "<Figure size 800x400 with 1 Axes>"
            ],
            "image/png": "[encoded data removed]"
          },
          "metadata": {}
        }
      ]
    },
    {
      "cell_type": "markdown",
      "source": [
        "***Mumbai Indians(MI) followed by Kolkata Knight riders(KKR) are lucky in terms of highes wins in tosses:***"
      ],
      "metadata": {
        "id": "pqsB418SA_VU"
      }
    },
    {
      "cell_type": "markdown",
      "source": [
        "## **Season Wise Toss decisions**"
      ],
      "metadata": {
        "id": "8zVYXtCLBYBS"
      }
    },
    {
      "cell_type": "code",
      "source": [
        "plt.subplots(figsize=(8,4))\n",
        "sns.countplot(data = matches, x = 'season', hue = 'toss_decision')\n",
        "plt.show()"
      ],
      "metadata": {
        "colab": {
          "base_uri": "https://localhost:8080/",
          "height": 413
        },
        "id": "1U1NPisKBbWp",
        "outputId": "f2c6d4db-bb49-4e97-b77a-2224599c487f"
      },
      "execution_count": null,
      "outputs": [
        {
          "output_type": "display_data",
          "data": {
            "text/plain": [
              "<Figure size 800x400 with 1 Axes>"
            ],
            "image/png": "[encoded data removed]"
          },
          "metadata": {}
        }
      ]
    },
    {
      "cell_type": "markdown",
      "source": [
        "## **Umpire Analysis**"
      ],
      "metadata": {
        "id": "SMyif1O7CgMi"
      }
    },
    {
      "cell_type": "code",
      "source": [
        "plt.subplots(figsize=(6,4))\n",
        "T_ump = pd.concat([matches['umpire1'],matches['umpire2']])\n",
        "ax = T_ump.value_counts().head(10).plot.bar(width=0.8,color = sns.color_palette(\"pastel\"),grid=False)\n",
        "# To present the numbers on top of every bar\n",
        "for p in ax.patches:\n",
        "    ax.annotate(format(p.get_height()), (p.get_x()+0.15, p.get_height()+0.25))\n",
        "plt.show()"
      ],
      "metadata": {
        "colab": {
          "base_uri": "https://localhost:8080/",
          "height": 549
        },
        "id": "VSy-wY_CCi_Y",
        "outputId": "55ab2ffd-4f0c-418d-f57b-9f24d123b760"
      },
      "execution_count": null,
      "outputs": [
        {
          "output_type": "display_data",
          "data": {
            "text/plain": [
              "<Figure size 600x400 with 1 Axes>"
            ],
            "image/png": "[encoded data removed]"
          },
          "metadata": {}
        }
      ]
    },
    {
      "cell_type": "markdown",
      "source": [
        "**S Ravi did umpiring in 106 Matches in Total**"
      ],
      "metadata": {
        "id": "uXcDs9ZQFtML"
      }
    },
    {
      "cell_type": "markdown",
      "source": [
        "## **Count of matches played season wise**"
      ],
      "metadata": {
        "id": "cvnNJzu5E8d4"
      }
    },
    {
      "cell_type": "code",
      "source": [
        "plt.subplots(figsize=(8,4))\n",
        "sns.countplot(data=matches, x = 'season',palette = sns.color_palette('autumn'))\n",
        "plt.show()"
      ],
      "metadata": {
        "colab": {
          "base_uri": "https://localhost:8080/",
          "height": 413
        },
        "id": "PcOnbxhaE_m_",
        "outputId": "a9af589f-446b-40e1-e8f2-9a4f1943bec7"
      },
      "execution_count": null,
      "outputs": [
        {
          "output_type": "display_data",
          "data": {
            "text/plain": [
              "<Figure size 800x400 with 1 Axes>"
            ],
            "image/png": "[encoded data removed]"
          },
          "metadata": {}
        }
      ]
    },
    {
      "cell_type": "markdown",
      "source": [
        "**Maximum Number of matches played were in year 2013**"
      ],
      "metadata": {
        "id": "jkbgTyfHF_KJ"
      }
    },
    {
      "cell_type": "markdown",
      "source": [
        "## **Teams with score > 200**"
      ],
      "metadata": {
        "id": "lXRFURq0GO_C"
      }
    },
    {
      "cell_type": "code",
      "source": [
        "high_scores=delivery.groupby(['match_id', 'inning','batting_team','bowling_team'])['total_runs'].sum().reset_index()\n",
        "high_scores=high_scores[high_scores['total_runs']>=200]\n",
        "high_scores.nlargest(10,'total_runs')"
      ],
      "metadata": {
        "colab": {
          "base_uri": "https://localhost:8080/",
          "height": 363
        },
        "id": "pjVYMWchLeF6",
        "outputId": "4b5d11a9-723e-4afa-c1e6-7dff6f8a9773"
      },
      "execution_count": null,
      "outputs": [
        {
          "output_type": "execute_result",
          "data": {
            "text/plain": [
              "      match_id  inning batting_team bowling_team  total_runs\n",
              "829        411       1          RCB           PW         263\n",
              "1370      7937       1          KKR         KXIP         250\n",
              "1250       620       1          RCB           GL         248\n",
              "416        206       1          CSK           RR         246\n",
              "1498     11338       1          KKR           MI         241\n",
              "122         61       1          CSK         KXIP         240\n",
              "1134       562       1          RCB           MI         235\n",
              "1426     11147       1          SRH          RCB         233\n",
              "596        296       1         KXIP          RCB         232\n",
              "1500     11339       1          SRH         KXIP         232"
            ],
            "text/html": [
              "\n",
              "  <div id=\"df-8f1912af-7429-45e3-b21e-8329fc60311f\">\n",
              "    <div class=\"colab-df-container\">\n",
              "      <div>\n",
              "<style scoped>\n",
              "    .dataframe tbody tr th:only-of-type {\n",
              "        vertical-align: middle;\n",
              "    }\n",
              "\n",
              "    .dataframe tbody tr th {\n",
              "        vertical-align: top;\n",
              "    }\n",
              "\n",
              "    .dataframe thead th {\n",
              "        text-align: right;\n",
              "    }\n",
              "</style>\n",
              "<table border=\"1\" class=\"dataframe\">\n",
              "  <thead>\n",
              "    <tr style=\"text-align: right;\">\n",
              "      <th></th>\n",
              "      <th>match_id</th>\n",
              "      <th>inning</th>\n",
              "      <th>batting_team</th>\n",
              "      <th>bowling_team</th>\n",
              "      <th>total_runs</th>\n",
              "    </tr>\n",
              "  </thead>\n",
              "  <tbody>\n",
              "    <tr>\n",
              "      <th>829</th>\n",
              "      <td>411</td>\n",
              "      <td>1</td>\n",
              "      <td>RCB</td>\n",
              "      <td>PW</td>\n",
              "      <td>263</td>\n",
              "    </tr>\n",
              "    <tr>\n",
              "      <th>1370</th>\n",
              "      <td>7937</td>\n",
              "      <td>1</td>\n",
              "      <td>KKR</td>\n",
              "      <td>KXIP</td>\n",
              "      <td>250</td>\n",
              "    </tr>\n",
              "    <tr>\n",
              "      <th>1250</th>\n",
              "      <td>620</td>\n",
              "      <td>1</td>\n",
              "      <td>RCB</td>\n",
              "      <td>GL</td>\n",
              "      <td>248</td>\n",
              "    </tr>\n",
              "    <tr>\n",
              "      <th>416</th>\n",
              "      <td>206</td>\n",
              "      <td>1</td>\n",
              "      <td>CSK</td>\n",
              "      <td>RR</td>\n",
              "      <td>246</td>\n",
              "    </tr>\n",
              "    <tr>\n",
              "      <th>1498</th>\n",
              "      <td>11338</td>\n",
              "      <td>1</td>\n",
              "      <td>KKR</td>\n",
              "      <td>MI</td>\n",
              "      <td>241</td>\n",
              "    </tr>\n",
              "    <tr>\n",
              "      <th>122</th>\n",
              "      <td>61</td>\n",
              "      <td>1</td>\n",
              "      <td>CSK</td>\n",
              "      <td>KXIP</td>\n",
              "      <td>240</td>\n",
              "    </tr>\n",
              "    <tr>\n",
              "      <th>1134</th>\n",
              "      <td>562</td>\n",
              "      <td>1</td>\n",
              "      <td>RCB</td>\n",
              "      <td>MI</td>\n",
              "      <td>235</td>\n",
              "    </tr>\n",
              "    <tr>\n",
              "      <th>1426</th>\n",
              "      <td>11147</td>\n",
              "      <td>1</td>\n",
              "      <td>SRH</td>\n",
              "      <td>RCB</td>\n",
              "      <td>233</td>\n",
              "    </tr>\n",
              "    <tr>\n",
              "      <th>596</th>\n",
              "      <td>296</td>\n",
              "      <td>1</td>\n",
              "      <td>KXIP</td>\n",
              "      <td>RCB</td>\n",
              "      <td>232</td>\n",
              "    </tr>\n",
              "    <tr>\n",
              "      <th>1500</th>\n",
              "      <td>11339</td>\n",
              "      <td>1</td>\n",
              "      <td>SRH</td>\n",
              "      <td>KXIP</td>\n",
              "      <td>232</td>\n",
              "    </tr>\n",
              "  </tbody>\n",
              "</table>\n",
              "</div>\n",
              "      <button class=\"colab-df-convert\" onclick=\"convertToInteractive('df-8f1912af-7429-45e3-b21e-8329fc60311f')\"\n",
              "              title=\"Convert this dataframe to an interactive table.\"\n",
              "              style=\"display:none;\">\n",
              "        \n",
              "  <svg xmlns=\"http://www.w3.org/2000/svg\" height=\"24px\"viewBox=\"0 0 24 24\"\n",
              "       width=\"24px\">\n",
              "    <path d=\"M0 0h24v24H0V0z\" fill=\"none\"/>\n",
              "    <path d=\"M18.56 5.44l.94 2.06.94-2.06 2.06-.94-2.06-.94-.94-2.06-.94 2.06-2.06.94zm-11 1L8.5 8.5l.94-2.06 2.06-.94-2.06-.94L8.5 2.5l-.94 2.06-2.06.94zm10 10l.94 2.06.94-2.06 2.06-.94-2.06-.94-.94-2.06-.94 2.06-2.06.94z\"/><path d=\"M17.41 7.96l-1.37-1.37c-.4-.4-.92-.59-1.43-.59-.52 0-1.04.2-1.43.59L10.3 9.45l-7.72 7.72c-.78.78-.78 2.05 0 2.83L4 21.41c.39.39.9.59 1.41.59.51 0 1.02-.2 1.41-.59l7.78-7.78 2.81-2.81c.8-.78.8-2.07 0-2.86zM5.41 20L4 18.59l7.72-7.72 1.47 1.35L5.41 20z\"/>\n",
              "  </svg>\n",
              "      </button>\n",
              "      \n",
              "  <style>\n",
              "    .colab-df-container {\n",
              "      display:flex;\n",
              "      flex-wrap:wrap;\n",
              "      gap: 12px;\n",
              "    }\n",
              "\n",
              "    .colab-df-convert {\n",
              "      background-color: #E8F0FE;\n",
              "      border: none;\n",
              "      border-radius: 50%;\n",
              "      cursor: pointer;\n",
              "      display: none;\n",
              "      fill: #1967D2;\n",
              "      height: 32px;\n",
              "      padding: 0 0 0 0;\n",
              "      width: 32px;\n",
              "    }\n",
              "\n",
              "    .colab-df-convert:hover {\n",
              "      background-color: #E2EBFA;\n",
              "      box-shadow: 0px 1px 2px rgba(60, 64, 67, 0.3), 0px 1px 3px 1px rgba(60, 64, 67, 0.15);\n",
              "      fill: #174EA6;\n",
              "    }\n",
              "\n",
              "    [theme=dark] .colab-df-convert {\n",
              "      background-color: #3B4455;\n",
              "      fill: #D2E3FC;\n",
              "    }\n",
              "\n",
              "    [theme=dark] .colab-df-convert:hover {\n",
              "      background-color: #434B5C;\n",
              "      box-shadow: 0px 1px 3px 1px rgba(0, 0, 0, 0.15);\n",
              "      filter: drop-shadow(0px 1px 2px rgba(0, 0, 0, 0.3));\n",
              "      fill: #FFFFFF;\n",
              "    }\n",
              "  </style>\n",
              "\n",
              "      <script>\n",
              "        const buttonEl =\n",
              "          document.querySelector('#df-8f1912af-7429-45e3-b21e-8329fc60311f button.colab-df-convert');\n",
              "        buttonEl.style.display =\n",
              "          google.colab.kernel.accessAllowed ? 'block' : 'none';\n",
              "\n",
              "        async function convertToInteractive(key) {\n",
              "          const element = document.querySelector('#df-8f1912af-7429-45e3-b21e-8329fc60311f');\n",
              "          const dataTable =\n",
              "            await google.colab.kernel.invokeFunction('convertToInteractive',\n",
              "                                                     [key], {});\n",
              "          if (!dataTable) return;\n",
              "\n",
              "          const docLinkHtml = 'Like what you see? Visit the ' +\n",
              "            '<a target=\"_blank\" href=https://colab.research.google.com/notebooks/data_table.ipynb>data table notebook</a>'\n",
              "            + ' to learn more about interactive tables.';\n",
              "          element.innerHTML = '';\n",
              "          dataTable['output_type'] = 'display_data';\n",
              "          await google.colab.output.renderOutput(dataTable, element);\n",
              "          const docLink = document.createElement('div');\n",
              "          docLink.innerHTML = docLinkHtml;\n",
              "          element.appendChild(docLink);\n",
              "        }\n",
              "      </script>\n",
              "    </div>\n",
              "  </div>\n",
              "  "
            ]
          },
          "metadata": {},
          "execution_count": 100
        }
      ]
    },
    {
      "cell_type": "markdown",
      "source": [
        "## **Highest man of the matches**"
      ],
      "metadata": {
        "id": "qvglg5J-OerK"
      }
    },
    {
      "cell_type": "code",
      "source": [
        "plt.subplots(figsize=(6,4))\n",
        "ax = matches['player_of_match'].value_counts().head(10).plot.bar(width=.8, color=sns.color_palette('gist_stern',10),grid=False)\n",
        "ax.set_xlabel('Player_of_Match')\n",
        "for p in ax.patches:\n",
        "    ax.annotate(format(p.get_height()), (p.get_x()+0.15, p.get_height()+0.25))\n",
        "plt.show()"
      ],
      "metadata": {
        "colab": {
          "base_uri": "https://localhost:8080/",
          "height": 526
        },
        "id": "ZdIk5ZjROhIU",
        "outputId": "8681a6e3-40fe-46c9-ba0a-68ad71aee88c"
      },
      "execution_count": null,
      "outputs": [
        {
          "output_type": "display_data",
          "data": {
            "text/plain": [
              "<Figure size 600x400 with 1 Axes>"
            ],
            "image/png": "[encoded data removed]"
          },
          "metadata": {}
        }
      ]
    },
    {
      "cell_type": "markdown",
      "source": [
        "**CH Gayle has won the maximum number of Man of Matches**"
      ],
      "metadata": {
        "id": "EKNDLLPrS3YQ"
      }
    },
    {
      "cell_type": "markdown",
      "source": [
        "## **Top 10 Batsman**"
      ],
      "metadata": {
        "id": "qeBgFzpsPPoH"
      }
    },
    {
      "cell_type": "code",
      "source": [
        "mlt.subplots(figsize=(7,4))\n",
        "max_runs=delivery.groupby(['batsman'])['batsman_runs'].sum()\n",
        "ax=max_runs.sort_values(ascending=False)[:10].plot.bar(width=0.8,color=sns.color_palette('bone',20))\n",
        "for p in ax.patches:\n",
        "    ax.annotate(format(p.get_height()), (p.get_x()+0.1, p.get_height()+50),fontsize=15)\n",
        "mlt.show()"
      ],
      "metadata": {
        "colab": {
          "base_uri": "https://localhost:8080/",
          "height": 526
        },
        "id": "bJfb7_cVPSK1",
        "outputId": "4102a79d-334c-460f-8202-e6e7cea74cc9"
      },
      "execution_count": null,
      "outputs": [
        {
          "output_type": "display_data",
          "data": {
            "text/plain": [
              "<Figure size 700x400 with 1 Axes>"
            ],
            "image/png": "[encoded data removed]"
          },
          "metadata": {}
        }
      ]
    },
    {
      "cell_type": "markdown",
      "source": [
        "**Virat Kohle is the batsman with the highest runs**"
      ],
      "metadata": {
        "id": "YovrgIZZS_TU"
      }
    },
    {
      "cell_type": "markdown",
      "source": [
        "## **Top scores based on runs**"
      ],
      "metadata": {
        "id": "4kBEf8RYTaaP"
      }
    },
    {
      "cell_type": "code",
      "source": [
        "top_scores = delivery.groupby([\"match_id\", \"batsman\",\"batting_team\"])[\"batsman_runs\"].sum().reset_index()\n",
        "top_scores.sort_values('batsman_runs').tail(10)\n",
        "top_scores.nlargest(10,'batsman_runs')"
      ],
      "metadata": {
        "colab": {
          "base_uri": "https://localhost:8080/",
          "height": 363
        },
        "id": "MBPOVoR4Tcbu",
        "outputId": "f0367dc0-2f00-4055-d241-bb788d8555d3"
      },
      "execution_count": null,
      "outputs": [
        {
          "output_type": "execute_result",
          "data": {
            "text/plain": [
              "       match_id         batsman batting_team  batsman_runs\n",
              "6200        411        CH Gayle          RCB           175\n",
              "900          60     BB McCullum          KKR           158\n",
              "8426        562  AB de Villiers          RCB           133\n",
              "10149      7935         RR Pant           DD           130\n",
              "9257        620  AB de Villiers          RCB           129\n",
              "5585        372        CH Gayle          RCB           128\n",
              "3135        206         M Vijay          CSK           127\n",
              "529          36       DA Warner          SRH           126\n",
              "7752        516        V Sehwag         KXIP           122\n",
              "10417      7953       SR Watson          CSK           121"
            ],
            "text/html": [
              "\n",
              "  <div id=\"df-be79d0f0-8d5d-4b15-8553-e16fba5f8462\">\n",
              "    <div class=\"colab-df-container\">\n",
              "      <div>\n",
              "<style scoped>\n",
              "    .dataframe tbody tr th:only-of-type {\n",
              "        vertical-align: middle;\n",
              "    }\n",
              "\n",
              "    .dataframe tbody tr th {\n",
              "        vertical-align: top;\n",
              "    }\n",
              "\n",
              "    .dataframe thead th {\n",
              "        text-align: right;\n",
              "    }\n",
              "</style>\n",
              "<table border=\"1\" class=\"dataframe\">\n",
              "  <thead>\n",
              "    <tr style=\"text-align: right;\">\n",
              "      <th></th>\n",
              "      <th>match_id</th>\n",
              "      <th>batsman</th>\n",
              "      <th>batting_team</th>\n",
              "      <th>batsman_runs</th>\n",
              "    </tr>\n",
              "  </thead>\n",
              "  <tbody>\n",
              "    <tr>\n",
              "      <th>6200</th>\n",
              "      <td>411</td>\n",
              "      <td>CH Gayle</td>\n",
              "      <td>RCB</td>\n",
              "      <td>175</td>\n",
              "    </tr>\n",
              "    <tr>\n",
              "      <th>900</th>\n",
              "      <td>60</td>\n",
              "      <td>BB McCullum</td>\n",
              "      <td>KKR</td>\n",
              "      <td>158</td>\n",
              "    </tr>\n",
              "    <tr>\n",
              "      <th>8426</th>\n",
              "      <td>562</td>\n",
              "      <td>AB de Villiers</td>\n",
              "      <td>RCB</td>\n",
              "      <td>133</td>\n",
              "    </tr>\n",
              "    <tr>\n",
              "      <th>10149</th>\n",
              "      <td>7935</td>\n",
              "      <td>RR Pant</td>\n",
              "      <td>DD</td>\n",
              "      <td>130</td>\n",
              "    </tr>\n",
              "    <tr>\n",
              "      <th>9257</th>\n",
              "      <td>620</td>\n",
              "      <td>AB de Villiers</td>\n",
              "      <td>RCB</td>\n",
              "      <td>129</td>\n",
              "    </tr>\n",
              "    <tr>\n",
              "      <th>5585</th>\n",
              "      <td>372</td>\n",
              "      <td>CH Gayle</td>\n",
              "      <td>RCB</td>\n",
              "      <td>128</td>\n",
              "    </tr>\n",
              "    <tr>\n",
              "      <th>3135</th>\n",
              "      <td>206</td>\n",
              "      <td>M Vijay</td>\n",
              "      <td>CSK</td>\n",
              "      <td>127</td>\n",
              "    </tr>\n",
              "    <tr>\n",
              "      <th>529</th>\n",
              "      <td>36</td>\n",
              "      <td>DA Warner</td>\n",
              "      <td>SRH</td>\n",
              "      <td>126</td>\n",
              "    </tr>\n",
              "    <tr>\n",
              "      <th>7752</th>\n",
              "      <td>516</td>\n",
              "      <td>V Sehwag</td>\n",
              "      <td>KXIP</td>\n",
              "      <td>122</td>\n",
              "    </tr>\n",
              "    <tr>\n",
              "      <th>10417</th>\n",
              "      <td>7953</td>\n",
              "      <td>SR Watson</td>\n",
              "      <td>CSK</td>\n",
              "      <td>121</td>\n",
              "    </tr>\n",
              "  </tbody>\n",
              "</table>\n",
              "</div>\n",
              "      <button class=\"colab-df-convert\" onclick=\"convertToInteractive('df-be79d0f0-8d5d-4b15-8553-e16fba5f8462')\"\n",
              "              title=\"Convert this dataframe to an interactive table.\"\n",
              "              style=\"display:none;\">\n",
              "        \n",
              "  <svg xmlns=\"http://www.w3.org/2000/svg\" height=\"24px\"viewBox=\"0 0 24 24\"\n",
              "       width=\"24px\">\n",
              "    <path d=\"M0 0h24v24H0V0z\" fill=\"none\"/>\n",
              "    <path d=\"M18.56 5.44l.94 2.06.94-2.06 2.06-.94-2.06-.94-.94-2.06-.94 2.06-2.06.94zm-11 1L8.5 8.5l.94-2.06 2.06-.94-2.06-.94L8.5 2.5l-.94 2.06-2.06.94zm10 10l.94 2.06.94-2.06 2.06-.94-2.06-.94-.94-2.06-.94 2.06-2.06.94z\"/><path d=\"M17.41 7.96l-1.37-1.37c-.4-.4-.92-.59-1.43-.59-.52 0-1.04.2-1.43.59L10.3 9.45l-7.72 7.72c-.78.78-.78 2.05 0 2.83L4 21.41c.39.39.9.59 1.41.59.51 0 1.02-.2 1.41-.59l7.78-7.78 2.81-2.81c.8-.78.8-2.07 0-2.86zM5.41 20L4 18.59l7.72-7.72 1.47 1.35L5.41 20z\"/>\n",
              "  </svg>\n",
              "      </button>\n",
              "      \n",
              "  <style>\n",
              "    .colab-df-container {\n",
              "      display:flex;\n",
              "      flex-wrap:wrap;\n",
              "      gap: 12px;\n",
              "    }\n",
              "\n",
              "    .colab-df-convert {\n",
              "      background-color: #E8F0FE;\n",
              "      border: none;\n",
              "      border-radius: 50%;\n",
              "      cursor: pointer;\n",
              "      display: none;\n",
              "      fill: #1967D2;\n",
              "      height: 32px;\n",
              "      padding: 0 0 0 0;\n",
              "      width: 32px;\n",
              "    }\n",
              "\n",
              "    .colab-df-convert:hover {\n",
              "      background-color: #E2EBFA;\n",
              "      box-shadow: 0px 1px 2px rgba(60, 64, 67, 0.3), 0px 1px 3px 1px rgba(60, 64, 67, 0.15);\n",
              "      fill: #174EA6;\n",
              "    }\n",
              "\n",
              "    [theme=dark] .colab-df-convert {\n",
              "      background-color: #3B4455;\n",
              "      fill: #D2E3FC;\n",
              "    }\n",
              "\n",
              "    [theme=dark] .colab-df-convert:hover {\n",
              "      background-color: #434B5C;\n",
              "      box-shadow: 0px 1px 3px 1px rgba(0, 0, 0, 0.15);\n",
              "      filter: drop-shadow(0px 1px 2px rgba(0, 0, 0, 0.3));\n",
              "      fill: #FFFFFF;\n",
              "    }\n",
              "  </style>\n",
              "\n",
              "      <script>\n",
              "        const buttonEl =\n",
              "          document.querySelector('#df-be79d0f0-8d5d-4b15-8553-e16fba5f8462 button.colab-df-convert');\n",
              "        buttonEl.style.display =\n",
              "          google.colab.kernel.accessAllowed ? 'block' : 'none';\n",
              "\n",
              "        async function convertToInteractive(key) {\n",
              "          const element = document.querySelector('#df-be79d0f0-8d5d-4b15-8553-e16fba5f8462');\n",
              "          const dataTable =\n",
              "            await google.colab.kernel.invokeFunction('convertToInteractive',\n",
              "                                                     [key], {});\n",
              "          if (!dataTable) return;\n",
              "\n",
              "          const docLinkHtml = 'Like what you see? Visit the ' +\n",
              "            '<a target=\"_blank\" href=https://colab.research.google.com/notebooks/data_table.ipynb>data table notebook</a>'\n",
              "            + ' to learn more about interactive tables.';\n",
              "          element.innerHTML = '';\n",
              "          dataTable['output_type'] = 'display_data';\n",
              "          await google.colab.output.renderOutput(dataTable, element);\n",
              "          const docLink = document.createElement('div');\n",
              "          docLink.innerHTML = docLinkHtml;\n",
              "          element.appendChild(docLink);\n",
              "        }\n",
              "      </script>\n",
              "    </div>\n",
              "  </div>\n",
              "  "
            ]
          },
          "metadata": {},
          "execution_count": 103
        }
      ]
    },
    {
      "cell_type": "markdown",
      "source": [
        "## **Maximum overs Bowled**"
      ],
      "metadata": {
        "id": "SxzdXvN2T1zO"
      }
    },
    {
      "cell_type": "code",
      "source": [
        "bow = delivery.groupby(['bowler']).sum()\n",
        "bow['total balls'] = delivery['bowler'].value_counts()\n",
        "bow['overs'] = (bow['total balls']//6)\n",
        "bow[bow['overs']>200].sort_values(by='overs',ascending=0)['overs'].head(5).reset_index()"
      ],
      "metadata": {
        "colab": {
          "base_uri": "https://localhost:8080/",
          "height": 295
        },
        "id": "jesvXFwnT5Gy",
        "outputId": "cfa439c2-5b23-4177-a9b5-e757a8e08d08"
      },
      "execution_count": null,
      "outputs": [
        {
          "output_type": "stream",
          "name": "stderr",
          "text": [
            "<ipython-input-112-00a2d75d49db>:1: FutureWarning:\n",
            "\n",
            "The default value of numeric_only in DataFrameGroupBy.sum is deprecated. In a future version, numeric_only will default to False. Either specify numeric_only or select only columns which should be valid for the function.\n",
            "\n"
          ]
        },
        {
          "output_type": "execute_result",
          "data": {
            "text/plain": [
              "            bowler  overs\n",
              "0  Harbhajan Singh    575\n",
              "1         A Mishra    528\n",
              "2        PP Chawla    526\n",
              "3         R Ashwin    502\n",
              "4       SL Malinga    495"
            ],
            "text/html": [
              "\n",
              "  <div id=\"df-d353c817-2f3d-4eaf-8f42-0686d6807344\">\n",
              "    <div class=\"colab-df-container\">\n",
              "      <div>\n",
              "<style scoped>\n",
              "    .dataframe tbody tr th:only-of-type {\n",
              "        vertical-align: middle;\n",
              "    }\n",
              "\n",
              "    .dataframe tbody tr th {\n",
              "        vertical-align: top;\n",
              "    }\n",
              "\n",
              "    .dataframe thead th {\n",
              "        text-align: right;\n",
              "    }\n",
              "</style>\n",
              "<table border=\"1\" class=\"dataframe\">\n",
              "  <thead>\n",
              "    <tr style=\"text-align: right;\">\n",
              "      <th></th>\n",
              "      <th>bowler</th>\n",
              "      <th>overs</th>\n",
              "    </tr>\n",
              "  </thead>\n",
              "  <tbody>\n",
              "    <tr>\n",
              "      <th>0</th>\n",
              "      <td>Harbhajan Singh</td>\n",
              "      <td>575</td>\n",
              "    </tr>\n",
              "    <tr>\n",
              "      <th>1</th>\n",
              "      <td>A Mishra</td>\n",
              "      <td>528</td>\n",
              "    </tr>\n",
              "    <tr>\n",
              "      <th>2</th>\n",
              "      <td>PP Chawla</td>\n",
              "      <td>526</td>\n",
              "    </tr>\n",
              "    <tr>\n",
              "      <th>3</th>\n",
              "      <td>R Ashwin</td>\n",
              "      <td>502</td>\n",
              "    </tr>\n",
              "    <tr>\n",
              "      <th>4</th>\n",
              "      <td>SL Malinga</td>\n",
              "      <td>495</td>\n",
              "    </tr>\n",
              "  </tbody>\n",
              "</table>\n",
              "</div>\n",
              "      <button class=\"colab-df-convert\" onclick=\"convertToInteractive('df-d353c817-2f3d-4eaf-8f42-0686d6807344')\"\n",
              "              title=\"Convert this dataframe to an interactive table.\"\n",
              "              style=\"display:none;\">\n",
              "        \n",
              "  <svg xmlns=\"http://www.w3.org/2000/svg\" height=\"24px\"viewBox=\"0 0 24 24\"\n",
              "       width=\"24px\">\n",
              "    <path d=\"M0 0h24v24H0V0z\" fill=\"none\"/>\n",
              "    <path d=\"M18.56 5.44l.94 2.06.94-2.06 2.06-.94-2.06-.94-.94-2.06-.94 2.06-2.06.94zm-11 1L8.5 8.5l.94-2.06 2.06-.94-2.06-.94L8.5 2.5l-.94 2.06-2.06.94zm10 10l.94 2.06.94-2.06 2.06-.94-2.06-.94-.94-2.06-.94 2.06-2.06.94z\"/><path d=\"M17.41 7.96l-1.37-1.37c-.4-.4-.92-.59-1.43-.59-.52 0-1.04.2-1.43.59L10.3 9.45l-7.72 7.72c-.78.78-.78 2.05 0 2.83L4 21.41c.39.39.9.59 1.41.59.51 0 1.02-.2 1.41-.59l7.78-7.78 2.81-2.81c.8-.78.8-2.07 0-2.86zM5.41 20L4 18.59l7.72-7.72 1.47 1.35L5.41 20z\"/>\n",
              "  </svg>\n",
              "      </button>\n",
              "      \n",
              "  <style>\n",
              "    .colab-df-container {\n",
              "      display:flex;\n",
              "      flex-wrap:wrap;\n",
              "      gap: 12px;\n",
              "    }\n",
              "\n",
              "    .colab-df-convert {\n",
              "      background-color: #E8F0FE;\n",
              "      border: none;\n",
              "      border-radius: 50%;\n",
              "      cursor: pointer;\n",
              "      display: none;\n",
              "      fill: #1967D2;\n",
              "      height: 32px;\n",
              "      padding: 0 0 0 0;\n",
              "      width: 32px;\n",
              "    }\n",
              "\n",
              "    .colab-df-convert:hover {\n",
              "      background-color: #E2EBFA;\n",
              "      box-shadow: 0px 1px 2px rgba(60, 64, 67, 0.3), 0px 1px 3px 1px rgba(60, 64, 67, 0.15);\n",
              "      fill: #174EA6;\n",
              "    }\n",
              "\n",
              "    [theme=dark] .colab-df-convert {\n",
              "      background-color: #3B4455;\n",
              "      fill: #D2E3FC;\n",
              "    }\n",
              "\n",
              "    [theme=dark] .colab-df-convert:hover {\n",
              "      background-color: #434B5C;\n",
              "      box-shadow: 0px 1px 3px 1px rgba(0, 0, 0, 0.15);\n",
              "      filter: drop-shadow(0px 1px 2px rgba(0, 0, 0, 0.3));\n",
              "      fill: #FFFFFF;\n",
              "    }\n",
              "  </style>\n",
              "\n",
              "      <script>\n",
              "        const buttonEl =\n",
              "          document.querySelector('#df-d353c817-2f3d-4eaf-8f42-0686d6807344 button.colab-df-convert');\n",
              "        buttonEl.style.display =\n",
              "          google.colab.kernel.accessAllowed ? 'block' : 'none';\n",
              "\n",
              "        async function convertToInteractive(key) {\n",
              "          const element = document.querySelector('#df-d353c817-2f3d-4eaf-8f42-0686d6807344');\n",
              "          const dataTable =\n",
              "            await google.colab.kernel.invokeFunction('convertToInteractive',\n",
              "                                                     [key], {});\n",
              "          if (!dataTable) return;\n",
              "\n",
              "          const docLinkHtml = 'Like what you see? Visit the ' +\n",
              "            '<a target=\"_blank\" href=https://colab.research.google.com/notebooks/data_table.ipynb>data table notebook</a>'\n",
              "            + ' to learn more about interactive tables.';\n",
              "          element.innerHTML = '';\n",
              "          dataTable['output_type'] = 'display_data';\n",
              "          await google.colab.output.renderOutput(dataTable, element);\n",
              "          const docLink = document.createElement('div');\n",
              "          docLink.innerHTML = docLinkHtml;\n",
              "          element.appendChild(docLink);\n",
              "        }\n",
              "      </script>\n",
              "    </div>\n",
              "  </div>\n",
              "  "
            ]
          },
          "metadata": {},
          "execution_count": 112
        }
      ]
    },
    {
      "cell_type": "markdown",
      "source": [
        "**Harbhajan Singh bowled the maximum number of Overs**"
      ],
      "metadata": {
        "id": "ffKWzd-QVhSL"
      }
    },
    {
      "cell_type": "markdown",
      "source": [
        "# **Summary of Insights :**\n",
        "* The total number of matches that were conducted are **756.**\n",
        "\n",
        "    * ***CH Gayle*** is the player who has won maximum number of man of the match awards.\n",
        "    * ***MI*** is the team who has won maximum number of successful winning matches.\n",
        "* **Mumbai Indians** having the higest win in tosses follwed by **Kolkata Knight Riders**\n",
        "* The total number of matches with Super overs are **7**.\n",
        "* Year wise **winners** :\n",
        "\n",
        "    * 2008 - 'RR'\n",
        "\n",
        "    * 2009 - 'DC'\n",
        "\n",
        "    * 2010 - 'CSK'\n",
        "\n",
        "    * 2011 - 'CSK'\n",
        "\n",
        "    * 2012 - 'KKR'\n",
        "\n",
        "    * 2013 - 'MI'\n",
        "\n",
        "    * 2014 - 'KKR'\n",
        "\n",
        "    * 2015 - 'MI'\n",
        "\n",
        "    * 2016 - 'SRH'\n",
        "\n",
        "* Toss Decision in % :\n",
        "\n",
        "    * Fielding -  **61.243386**\n",
        "\n",
        "    * Batting -   **38.756614**\n",
        "\n"
      ],
      "metadata": {
        "id": "FBJgtw-vV62I"
      }
    }
  ]
}